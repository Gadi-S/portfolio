{
  "cells": [
    {
      "cell_type": "markdown",
      "metadata": {
        "id": "3CNz35ia6Bz3"
      },
      "source": [
        "## Problem Statement"
      ]
    },
    {
      "cell_type": "markdown",
      "metadata": {
        "id": "CkRbhMJH6Bz3"
      },
      "source": [
        "### Business Context"
      ]
    },
    {
      "cell_type": "markdown",
      "metadata": {
        "id": "3PBm5xaj6Bz3"
      },
      "source": [
        "The healthcare industry is rapidly evolving, with professionals facing increasing challenges in managing vast volumes of medical data while delivering accurate and timely diagnoses. The need for quick access to comprehensive, reliable, and up-to-date medical knowledge is critical for improving patient outcomes and ensuring informed decision-making in a fast-paced environment.\n",
        "\n",
        "Healthcare professionals often encounter information overload, struggling to sift through extensive research and data to create accurate diagnoses and treatment plans. This challenge is amplified by the need for efficiency, particularly in emergencies, where time-sensitive decisions are vital. Furthermore, access to trusted, current medical information from renowned manuals and research papers is essential for maintaining high standards of care.\n",
        "\n",
        "To address these challenges, healthcare centers can focus on integrating systems that streamline access to medical knowledge, provide tools to support quick decision-making, and enhance efficiency. Leveraging centralized knowledge platforms and ensuring healthcare providers have continuous access to reliable resources can significantly improve patient care and operational effectiveness."
      ]
    },
    {
      "cell_type": "markdown",
      "metadata": {
        "id": "1xDPsqvO6Bz5"
      },
      "source": [
        "**Common Questions to Answer**\n",
        "\n",
        "**1. Diagnostic Assistance**: \"What are the common symptoms and treatments for pulmonary embolism?\"\n",
        "\n",
        "**2. Drug Information**: \"Can you provide the trade names of medications used for treating hypertension?\"\n",
        "\n",
        "**3. Treatment Plans**: \"What are the first-line options and alternatives for managing rheumatoid arthritis?\"\n",
        "\n",
        "**4. Specialty Knowledge**: \"What are the diagnostic steps for suspected endocrine disorders?\"\n",
        "\n",
        "**5. Critical Care Protocols**: \"What is the protocol for managing sepsis in a critical care unit?\""
      ]
    },
    {
      "cell_type": "markdown",
      "metadata": {
        "id": "CARPKFwm6Bz4"
      },
      "source": [
        "### Objective"
      ]
    },
    {
      "cell_type": "markdown",
      "metadata": {
        "id": "dOElOEXq6Bz4"
      },
      "source": [
        "As an AI specialist, your task is to develop a RAG-based AI solution using renowned medical manuals to address healthcare challenges. The objective is to **understand** issues like information overload, **apply** AI techniques to streamline decision-making, **analyze** its impact on diagnostics and patient outcomes, **evaluate** its potential to standardize care practices, and **create** a functional prototype demonstrating its feasibility and effectiveness."
      ]
    },
    {
      "cell_type": "markdown",
      "metadata": {
        "id": "by9EvAnkSpZf"
      },
      "source": [
        "### Data Description"
      ]
    },
    {
      "cell_type": "markdown",
      "metadata": {
        "id": "Jw5LievCSru2"
      },
      "source": [
        "The **Merck Manuals** are medical references published by the American pharmaceutical company Merck & Co., that cover a wide range of medical topics, including disorders, tests, diagnoses, and drugs. The manuals have been published since 1899, when Merck & Co. was still a subsidiary of the German company Merck.\n",
        "\n",
        "The manual is provided as a PDF with over 4,000 pages divided into 23 sections."
      ]
    },
    {
      "cell_type": "markdown",
      "metadata": {
        "id": "lnwETBOE6Bz5"
      },
      "source": [
        "## Installing and Importing Necessary Libraries and Dependencies"
      ]
    },
    {
      "cell_type": "code",
      "execution_count": null,
      "metadata": {
        "id": "q4GgLhZhUM4V",
        "colab": {
          "base_uri": "https://localhost:8080/"
        },
        "outputId": "be5942fa-56df-4734-fdee-6ce543ca0dc5"
      },
      "outputs": [
        {
          "output_type": "stream",
          "name": "stdout",
          "text": [
            "\u001b[?25l     \u001b[90m━━━━━━━━━━━━━━━━━━━━━━━━━━━━━━━━━━━━━━━━\u001b[0m \u001b[32m0.0/1.8 MB\u001b[0m \u001b[31m?\u001b[0m eta \u001b[36m-:--:--\u001b[0m\r\u001b[2K     \u001b[90m━━━━━━━━━━━━━━━━━━━━━━━━━━━━━━━━━━━━━━━━\u001b[0m \u001b[32m1.8/1.8 MB\u001b[0m \u001b[31m69.6 MB/s\u001b[0m eta \u001b[36m0:00:00\u001b[0m\n",
            "\u001b[?25h  Installing build dependencies ... \u001b[?25l\u001b[?25hdone\n",
            "  Getting requirements to build wheel ... \u001b[?25l\u001b[?25hdone\n",
            "  Preparing metadata (pyproject.toml) ... \u001b[?25l\u001b[?25hdone\n",
            "\u001b[2K     \u001b[90m━━━━━━━━━━━━━━━━━━━━━━━━━━━━━━━━━━━━━━━\u001b[0m \u001b[32m62.1/62.1 kB\u001b[0m \u001b[31m135.4 MB/s\u001b[0m eta \u001b[36m0:00:00\u001b[0m\n",
            "\u001b[2K   \u001b[90m━━━━━━━━━━━━━━━━━━━━━━━━━━━━━━━━━━━━━━━━\u001b[0m \u001b[32m45.5/45.5 kB\u001b[0m \u001b[31m103.4 MB/s\u001b[0m eta \u001b[36m0:00:00\u001b[0m\n",
            "\u001b[2K   \u001b[90m━━━━━━━━━━━━━━━━━━━━━━━━━━━━━━━━━━━━━━━━\u001b[0m \u001b[32m16.6/16.6 MB\u001b[0m \u001b[31m216.7 MB/s\u001b[0m eta \u001b[36m0:00:00\u001b[0m\n",
            "\u001b[2K   \u001b[90m━━━━━━━━━━━━━━━━━━━━━━━━━━━━━━━━━━━━━━━━\u001b[0m \u001b[32m44.6/44.6 kB\u001b[0m \u001b[31m267.0 MB/s\u001b[0m eta \u001b[36m0:00:00\u001b[0m\n",
            "\u001b[?25h  Building wheel for llama-cpp-python (pyproject.toml) ... \u001b[?25l\u001b[?25hdone\n",
            "\u001b[31mERROR: pip's dependency resolver does not currently take into account all the packages that are installed. This behaviour is the source of the following dependency conflicts.\n",
            "langchain 0.3.0 requires numpy<2.0.0,>=1.26.0; python_version >= \"3.12\", but you have numpy 2.3.3 which is incompatible.\n",
            "langchain-community 0.3.0 requires numpy<2.0.0,>=1.26.0; python_version >= \"3.12\", but you have numpy 2.3.3 which is incompatible.\n",
            "chromadb 0.5.5 requires numpy<2.0.0,>=1.22.5, but you have numpy 2.3.3 which is incompatible.\n",
            "opencv-python 4.12.0.88 requires numpy<2.3.0,>=2; python_version >= \"3.9\", but you have numpy 2.3.3 which is incompatible.\n",
            "tensorflow 2.19.0 requires numpy<2.2.0,>=1.26.0, but you have numpy 2.3.3 which is incompatible.\n",
            "opencv-python-headless 4.12.0.88 requires numpy<2.3.0,>=2; python_version >= \"3.9\", but you have numpy 2.3.3 which is incompatible.\n",
            "numba 0.60.0 requires numpy<2.1,>=1.22, but you have numpy 2.3.3 which is incompatible.\n",
            "cupy-cuda12x 13.3.0 requires numpy<2.3,>=1.22, but you have numpy 2.3.3 which is incompatible.\n",
            "opencv-contrib-python 4.12.0.88 requires numpy<2.3.0,>=2; python_version >= \"3.9\", but you have numpy 2.3.3 which is incompatible.\u001b[0m\u001b[31m\n",
            "\u001b[0m"
          ]
        }
      ],
      "source": [
        "# Installation for GPU llama-cpp-python\n",
        "# uncomment and run the following code in case GPU is being used\n",
        "!CMAKE_ARGS=\"-DLLAMA_CUBLAS=on\" FORCE_CMAKE=1 pip install llama-cpp-python==0.1.85 --force-reinstall --no-cache-dir -q\n",
        "\n",
        "# Installation for CPU llama-cpp-python\n",
        "# uncomment and run the following code in case GPU is not being used\n",
        "# !CMAKE_ARGS=\"-DLLAMA_CUBLAS=off\" FORCE_CMAKE=1 pip install llama-cpp-python==0.1.85 --force-reinstall --no-cache-dir -q\n",
        "\n",
        "# Restart runtime after installation\n",
        "import os\n",
        "os.kill(os.getpid(), 9)"
      ]
    },
    {
      "cell_type": "markdown",
      "source": [
        "**Note**:\n",
        "- After running the above cell, kindly restart the runtime (for Google Colab) or notebook kernel (for Jupyter Notebook), and run all cells sequentially from the next cell.\n",
        "- On executing the above line of code, you might see a warning regarding package dependencies. This error message can be ignored as the above code ensures that all necessary libraries and their dependencies are maintained to successfully execute the code in ***this notebook***."
      ],
      "metadata": {
        "id": "mDp-EYZH-69E"
      }
    },
    {
      "cell_type": "code",
      "source": [
        "# For installing the libraries & downloading models from HF Hub\n",
        "!pip install -q \\\n",
        "huggingface_hub>=0.25.0 \\\n",
        "pandas>=2.2.2 \\\n",
        "tiktoken==0.6.0 \\\n",
        "pymupdf==1.25.1 \\\n",
        "langchain==0.3.0 \\\n",
        "langchain-community==0.3.0 \\\n",
        "langchain-text-splitters==0.3.6 \\\n",
        "chromadb==0.5.5 \\\n",
        "sentence-transformers==3.2.0 \\\n",
        "numpy==1.26.4"
      ],
      "metadata": {
        "colab": {
          "base_uri": "https://localhost:8080/"
        },
        "id": "R2YjhthVAvIt",
        "outputId": "d0a0eec1-9a99-4022-d653-065c2c11b68a"
      },
      "execution_count": 1,
      "outputs": [
        {
          "output_type": "stream",
          "name": "stdout",
          "text": [
            "\u001b[31mERROR: pip's dependency resolver does not currently take into account all the packages that are installed. This behaviour is the source of the following dependency conflicts.\n",
            "opencv-python 4.12.0.88 requires numpy<2.3.0,>=2; python_version >= \"3.9\", but you have numpy 1.26.4 which is incompatible.\n",
            "thinc 8.3.6 requires numpy<3.0.0,>=2.0.0, but you have numpy 1.26.4 which is incompatible.\n",
            "opencv-python-headless 4.12.0.88 requires numpy<2.3.0,>=2; python_version >= \"3.9\", but you have numpy 1.26.4 which is incompatible.\n",
            "opencv-contrib-python 4.12.0.88 requires numpy<2.3.0,>=2; python_version >= \"3.9\", but you have numpy 1.26.4 which is incompatible.\u001b[0m\u001b[31m\n",
            "\u001b[0m"
          ]
        }
      ]
    },
    {
      "cell_type": "markdown",
      "source": [
        "**Note**:\n",
        "- After running the above cell, kindly restart the runtime (for Google Colab) or notebook kernel (for Jupyter Notebook), and run all cells sequentially from the next cell.\n",
        "- On executing the above line of code, you might see a warning regarding package dependencies. This error message can be ignored as the above code ensures that all necessary libraries and their dependencies are maintained to successfully execute the code in ***this notebook***."
      ],
      "metadata": {
        "id": "y2EEYodpoUhW"
      }
    },
    {
      "cell_type": "code",
      "execution_count": 1,
      "metadata": {
        "id": "RTY9GN4oWK3g"
      },
      "outputs": [],
      "source": [
        "#Libraries for processing dataframes,text\n",
        "import json,os\n",
        "import tiktoken\n",
        "import pandas as pd\n",
        "\n",
        "#Libraries for Loading Data, Chunking, Embedding, and Vector Databases\n",
        "from langchain.text_splitter import RecursiveCharacterTextSplitter\n",
        "from langchain_community.document_loaders import PyMuPDFLoader\n",
        "from langchain_community.embeddings.sentence_transformer import SentenceTransformerEmbeddings\n",
        "from langchain_community.vectorstores import Chroma\n",
        "\n",
        "#Libraries for downloading and loading the llm\n",
        "from huggingface_hub import hf_hub_download\n",
        "from llama_cpp import Llama"
      ]
    },
    {
      "cell_type": "markdown",
      "metadata": {
        "id": "TtZWqj0wFTS1"
      },
      "source": [
        "## Question Answering using LLM"
      ]
    },
    {
      "cell_type": "markdown",
      "metadata": {
        "id": "Uq1lhM4WFTS2"
      },
      "source": [
        "#### Downloading and Loading the model"
      ]
    },
    {
      "cell_type": "code",
      "source": [
        "model_name_or_path = \"TheBloke/Llama-2-7B-chat-GGUF\"\n",
        "model_basename = \"llama-2-7b-chat.Q5_K_M.gguf\" # the model is in gguf format"
      ],
      "metadata": {
        "id": "dA3XQMWmQLJp"
      },
      "execution_count": 2,
      "outputs": []
    },
    {
      "cell_type": "markdown",
      "source": [
        "\n",
        "\n",
        "*   I am using the 7B parameter model as opposed to the 13B model\n",
        "\n",
        "    * Using a lighter model helps reduce GPU usage however the quality of the model responses may decrease.\n",
        "\n"
      ],
      "metadata": {
        "id": "YoQkqNkqd1JX"
      }
    },
    {
      "cell_type": "code",
      "source": [
        "model_path = hf_hub_download(\n",
        "    repo_id=model_name_or_path,\n",
        "    filename=model_basename\n",
        ")"
      ],
      "metadata": {
        "id": "eEhWypjCB9sU",
        "colab": {
          "base_uri": "https://localhost:8080/"
        },
        "outputId": "d3600ee6-c0e8-42e8-9bed-9b1a84f3e0a3"
      },
      "execution_count": 3,
      "outputs": [
        {
          "output_type": "stream",
          "name": "stderr",
          "text": [
            "/usr/local/lib/python3.12/dist-packages/huggingface_hub/utils/_auth.py:94: UserWarning: \n",
            "The secret `HF_TOKEN` does not exist in your Colab secrets.\n",
            "To authenticate with the Hugging Face Hub, create a token in your settings tab (https://huggingface.co/settings/tokens), set it as secret in your Google Colab and restart your session.\n",
            "You will be able to reuse this secret in all of your notebooks.\n",
            "Please note that authentication is recommended but still optional to access public models or datasets.\n",
            "  warnings.warn(\n"
          ]
        }
      ]
    },
    {
      "cell_type": "code",
      "source": [
        "lcpp_llm = Llama(\n",
        "    model_path=model_path,\n",
        "    n_ctx=4096,  # Context window\n",
        "    n_batch=1024,  # Batch size\n",
        "    n_gpu_layers=43,  # Number of GPU layers\n",
        ")"
      ],
      "metadata": {
        "id": "foUzXhbICFsH",
        "colab": {
          "base_uri": "https://localhost:8080/"
        },
        "outputId": "0cea42c2-7734-4fdb-e1c0-6b40a825c7df"
      },
      "execution_count": 4,
      "outputs": [
        {
          "output_type": "stream",
          "name": "stderr",
          "text": [
            "AVX = 1 | AVX2 = 1 | AVX512 = 0 | AVX512_VBMI = 0 | AVX512_VNNI = 0 | FMA = 1 | NEON = 0 | ARM_FMA = 0 | F16C = 1 | FP16_VA = 0 | WASM_SIMD = 0 | BLAS = 1 | SSE3 = 1 | SSSE3 = 1 | VSX = 0 | \n"
          ]
        }
      ]
    },
    {
      "cell_type": "markdown",
      "metadata": {
        "id": "EzzkvIXvFTS4"
      },
      "source": [
        "#### Response"
      ]
    },
    {
      "cell_type": "code",
      "source": [
        "# Creating the response function\n",
        "def response(query,max_tokens=512,temperature=0,top_p=0.95,top_k=50):\n",
        "    model_output = lcpp_llm(\n",
        "      prompt=query,\n",
        "      max_tokens=max_tokens,\n",
        "      temperature=temperature,\n",
        "      top_p=top_p,\n",
        "      top_k=top_k\n",
        "    )\n",
        "\n",
        "    return model_output['choices'][0]['text']"
      ],
      "metadata": {
        "id": "hG_IaZj0QLw4"
      },
      "execution_count": 5,
      "outputs": []
    },
    {
      "cell_type": "markdown",
      "source": [
        "Default Parameters:\n",
        "\n",
        "* max_tokens=512\n",
        "* temperature=0\n",
        "* top_p=0.95\n",
        "* top_k=50"
      ],
      "metadata": {
        "id": "ZFoJH8WVv8z5"
      }
    },
    {
      "cell_type": "code",
      "source": [
        "# Creating a dictionary of querys\n",
        "query_dict = {1:\"What is the protocol for managing sepsis in a critical care unit?\",\n",
        "              2:\"What are the common symptoms for appendicitis, and can it be cured via medicine? If not, what surgical procedure should be followed to treat it?\",\n",
        "              3:\"What are the effective treatments or solutions for addressing sudden patchy hair loss, commonly seen as localized bald spots on the scalp, and what could be the possible causes behind it?\",\n",
        "              4:\"What treatments are recommended for a person who has sustained a physical injury to brain tissue, resulting in temporary or permanent impairment of brain function?\",\n",
        "              5:\"What are the necessary precautions and treatment steps for a person who has fractured their leg during a hiking trip, and what should be considered for their care and recovery?\"}"
      ],
      "metadata": {
        "id": "O-2FuIrwTX8O"
      },
      "execution_count": 6,
      "outputs": []
    },
    {
      "cell_type": "markdown",
      "metadata": {
        "id": "K8YgK91SFjVY"
      },
      "source": [
        "### Query 1: What is the protocol for managing sepsis in a critical care unit?"
      ]
    },
    {
      "cell_type": "code",
      "source": [
        "# Response for query 1\n",
        "print(response(query_dict[1]))"
      ],
      "metadata": {
        "id": "-JLIVmpPQH0f",
        "colab": {
          "base_uri": "https://localhost:8080/"
        },
        "outputId": "8fea5bd3-ba78-4bd1-ba4f-498a67a04aa5"
      },
      "execution_count": 41,
      "outputs": [
        {
          "output_type": "stream",
          "name": "stderr",
          "text": [
            "Llama.generate: prefix-match hit\n"
          ]
        },
        {
          "output_type": "stream",
          "name": "stdout",
          "text": [
            "\n",
            "Sepsis is a life-threatening condition that requires prompt recognition and management in a critical care unit (CCU). Here are some general protocols for managing sepsis in a CCU:\n",
            "\n",
            "1. Early recognition and activation of sepsis team: The first step in managing sepsis is to recognize the signs and symptoms early and activate the sepsis team, which typically includes intensivists, critical care nurses, and other healthcare professionals with expertise in managing sepsis.\n",
            "2. Fluid resuscitation: Sepsis-induced hypotension is a common complication, and prompt fluid resuscitation is essential to restore blood pressure and perfusion of vital organs. The goal of fluid resuscitation is to maintain mean arterial pressure ≥65 mmHg.\n",
            "3. Vasopressor therapy: In addition to fluid resuscitation, vasopressors may be used to further raise blood pressure and improve organ perfusion. The choice of vasopressor depends on the severity of hypotension and the presence of cardiovascular dysfunction.\n",
            "4. Antibiotics: Early administration of broad-spectrum antibiotics is critical in managing sepsis, as it can help reduce the risk of organ failure and death. The choice of antibiotics depends on the suspected pathogen and the patient's clinical status.\n",
            "5. Source control: In cases where there is a known source of infection, such as pneumonia or abdominal sepsis, prompt management of the source can help prevent further progression of sepsis.\n",
            "6. Monitoring for organ dysfunction: Close monitoring of vital organs, including the lungs, kidneys, liver, and cardiovascular system, is essential to identify signs of organ dysfunction early and provide timely interventions.\n",
            "7. Early escalation of care: In severe cases of sepsis, early escalation of care to a higher level of care, such as the intensive care unit (ICU), may be necessary to provide more advanced therapies and closer monitoring.\n",
            "8. Goal-directed therapy: Goal-directed therapy, which involves tailoring treatment to specific physiological goals, such as maintaining mean arterial pressure\n"
          ]
        }
      ]
    },
    {
      "cell_type": "markdown",
      "metadata": {
        "id": "J6yxICeVFjVc"
      },
      "source": [
        "### Query 2: What are the common symptoms for appendicitis, and can it be cured via medicine? If not, what surgical procedure should be followed to treat it?"
      ]
    },
    {
      "cell_type": "code",
      "source": [
        "# Response for query 2\n",
        "print(response(query_dict[2]))"
      ],
      "metadata": {
        "id": "BdiHRgEqQIP9",
        "colab": {
          "base_uri": "https://localhost:8080/"
        },
        "outputId": "acb89ec2-de9a-4633-89f7-8757323f9314"
      },
      "execution_count": 42,
      "outputs": [
        {
          "output_type": "stream",
          "name": "stderr",
          "text": [
            "Llama.generate: prefix-match hit\n"
          ]
        },
        {
          "output_type": "stream",
          "name": "stdout",
          "text": [
            "\n",
            "\n",
            "\n",
            "\n",
            "\n",
            "\n"
          ]
        }
      ]
    },
    {
      "cell_type": "markdown",
      "source": [
        "\n",
        "\n",
        "*   Note that the model did not generate a response to this query.\n",
        "\n",
        "\n"
      ],
      "metadata": {
        "id": "X3wSw9F9gr5p"
      }
    },
    {
      "cell_type": "markdown",
      "metadata": {
        "id": "oflaoOGiFjVd"
      },
      "source": [
        "### Query 3: What are the effective treatments or solutions for addressing sudden patchy hair loss, commonly seen as localized bald spots on the scalp, and what could be the possible causes behind it?"
      ]
    },
    {
      "cell_type": "code",
      "source": [
        "# Response for query 3\n",
        "print(response(query_dict[3]))"
      ],
      "metadata": {
        "id": "N-mx9yboQIt-",
        "colab": {
          "base_uri": "https://localhost:8080/"
        },
        "outputId": "48d1d21c-e733-4321-c767-521780e2abec"
      },
      "execution_count": 43,
      "outputs": [
        {
          "output_type": "stream",
          "name": "stderr",
          "text": [
            "Llama.generate: prefix-match hit\n"
          ]
        },
        {
          "output_type": "stream",
          "name": "stdout",
          "text": [
            "\n",
            "\n",
            "Sudden patchy hair loss, also known as alopecia areata, can be a distressing condition that affects both men and women. It is characterized by round or oval-shaped patches of baldness on the scalp, eyebrows, beard, or other areas of the body. The exact cause of alopecia areata is not known, but it is believed to be an autoimmune disorder, where the immune system mistakenly attacks healthy hair follicles.\n",
            "There are several effective treatments for sudden patchy hair loss, including:\n",
            "1. Corticosteroid injections: These can help reduce inflammation and promote hair growth by suppressing the immune system's attack on the hair follicles.\n",
            "2. Topical corticosteroids: Applying a corticosteroid cream or lotion to the affected area can also help reduce inflammation and promote hair growth.\n",
            "3. Minoxidil (Rogaine): This over-the-counter solution can help stimulate hair growth by increasing blood flow to the scalp and widening the hair follicles.\n",
            "4. Anthralin: This medication can help reduce inflammation and promote hair growth by suppressing the immune system's attack on the hair follicles.\n",
            "5. Phototherapy: Exposure to specific wavelengths of light, such as UVB or UVA, can help slow down the immune system's attack on the hair follicles and promote hair growth.\n",
            "6. Immunomodulators: These medications can help regulate the immune system and reduce inflammation, which can lead to hair growth.\n",
            "7. Platelet-rich plasma (PRP) therapy: This involves injecting platelet-rich plasma (PRP) into the affected area, which contains growth factors that can stimulate hair growth.\n",
            "8. Hair transplantation: In severe cases of alopecia areata, hair transplantation may be an option to restore lost hair.\n",
            "It is important to note that these treatments may not work for everyone and may have varying degrees of success. It is also possible for the patchy hair loss to recur after treatment.\n",
            "Possible causes behind sudden patchy hair loss include:\n",
            "1. Autoimmune disorders: Alope\n"
          ]
        }
      ]
    },
    {
      "cell_type": "markdown",
      "metadata": {
        "id": "WUUqY4FbFjVe"
      },
      "source": [
        "### Query 4:  What treatments are recommended for a person who has sustained a physical injury to brain tissue, resulting in temporary or permanent impairment of brain function?"
      ]
    },
    {
      "cell_type": "code",
      "source": [
        "# Response for query 4\n",
        "print(response(query_dict[4]))"
      ],
      "metadata": {
        "id": "TEsVMaKaQJzh",
        "colab": {
          "base_uri": "https://localhost:8080/"
        },
        "outputId": "737ce9b0-1977-449d-ca7c-4080d4d8e295"
      },
      "execution_count": 44,
      "outputs": [
        {
          "output_type": "stream",
          "name": "stderr",
          "text": [
            "Llama.generate: prefix-match hit\n"
          ]
        },
        {
          "output_type": "stream",
          "name": "stdout",
          "text": [
            "\n",
            "The treatment options for a person who has sustained a physical injury to brain tissue, resulting in temporary or permanent impairment of brain function, depend on the severity and location of the injury. Here are some common treatments:\n",
            "1. Medications: Depending on the type and severity of the injury, medications may be prescribed to manage symptoms such as pain, inflammation, and swelling. For example, nonsteroidal anti-inflammatory drugs (NSAIDs) or corticosteroids may be used to reduce inflammation and swelling in the brain.\n",
            "2. Rehabilitation therapy: Physical, occupational, and speech therapy may be recommended to help the person regain lost functions and skills. For example, physical therapy may help improve mobility and balance, while speech therapy may help improve communication skills.\n",
            "3. Surgery: In some cases, surgery may be necessary to relieve pressure on the brain or repair damaged blood vessels. For example, a craniectomy (a procedure in which a portion of the skull is removed) may be performed to relieve pressure on the brain.\n",
            "4. Cognitive rehabilitation: This type of therapy helps people with cognitive impairments resulting from brain injury to improve their memory, attention, and other cognitive functions.\n",
            "5. Neuropsychological rehabilitation: This type of therapy helps people with emotional and behavioral changes resulting from brain injury to manage their emotions, behaviors, and relationships.\n",
            "6. Alternative therapies: Some alternative therapies such as acupuncture, massage, and music therapy may be helpful in managing symptoms and improving quality of life for people with brain injuries.\n",
            "7. Home modifications: In some cases, home modifications may be necessary to help the person adapt to their new abilities and limitations. For example, installing grab bars in the bathroom or removing tripping hazards from the home can help improve safety and independence.\n",
            "8. Assistive technology: Assistive devices such as canes, walkers, and wheelchairs may be necessary to help the person with mobility and balance issues.\n",
            "9. Support groups: Joining a support group for people with brain injuries can provide emotional support and help the person connect with others who are going through similar\n"
          ]
        }
      ]
    },
    {
      "cell_type": "markdown",
      "metadata": {
        "id": "5laPFTHrFjVf"
      },
      "source": [
        "### Query 5: What are the necessary precautions and treatment steps for a person who has fractured their leg during a hiking trip, and what should be considered for their care and recovery?"
      ]
    },
    {
      "cell_type": "code",
      "source": [
        "# Response for query 5\n",
        "print(response(query_dict[5]))"
      ],
      "metadata": {
        "id": "VfrlmrP5QKJz",
        "colab": {
          "base_uri": "https://localhost:8080/"
        },
        "outputId": "6168a11c-7eef-4476-fc0b-06e0603b4239"
      },
      "execution_count": 45,
      "outputs": [
        {
          "output_type": "stream",
          "name": "stderr",
          "text": [
            "Llama.generate: prefix-match hit\n"
          ]
        },
        {
          "output_type": "stream",
          "name": "stdout",
          "text": [
            "\n",
            "A person who has fractured their leg during a hiking trip requires prompt medical attention to prevent further damage and promote proper healing. Here are some necessary precautions and treatment steps:\n",
            "1. Assess the injury: Check for any other injuries or complications, such as bleeding, nerve damage, or infection.\n",
            "2. Immobilize the leg: Use a splint or cast to immobilize the affected leg and prevent further movement. This will help reduce pain and promote healing.\n",
            "3. Apply ice: Apply ice packs to the affected area for 15-20 minutes every hour to reduce swelling and pain.\n",
            "4. Elevate the leg: Elevate the affected leg above the level of the heart to reduce swelling and promote blood flow.\n",
            "5. Administer pain medication: Give the person over-the-counter pain medication, such as ibuprofen or acetaminophen, as directed to help manage pain.\n",
            "6. Transportation: If the injury is severe, transport the person to a medical facility for further evaluation and treatment.\n",
            "7. Follow-up care: After the initial injury, follow-up care is crucial for proper healing and recovery. This may include X-rays, physical therapy, and rehabilitation.\n",
            "8. Considerations for care and recovery:\n",
            "a. Rest and avoidance of strenuous activities: The person should rest their leg and avoid any strenuous activities to allow proper healing.\n",
            "b. Monitoring for infection: Monitor the affected area for signs of infection, such as redness, swelling, or increased pain.\n",
            "c. Managing pain: Continue to manage pain with medication and other measures as needed.\n",
            "d. Maintaining mobility: Encourage the person to move their leg and maintain mobility to prevent stiffness and promote proper healing.\n",
            "e. Follow-up appointments: Schedule follow-up appointments with a medical professional to monitor progress and adjust treatment as needed.\n",
            "f. Home care: Provide home care, such as elevating the affected leg, applying ice, and administering medication, as directed by a medical professional.\n",
            "g. Emotional support: Offer emotional support and reassurance to help the person cope with the injury and recovery process.\n",
            "In conclusion,\n"
          ]
        }
      ]
    },
    {
      "cell_type": "markdown",
      "source": [
        "### Observations of LLM responses on original queries:\n",
        "\n",
        "*   The answers appear to be generic.\n",
        "* Some of the responses are truncated as it has surpassed the max token limit.\n",
        "*   Some of the LLM responses contain information that was the query did not ask about. This can lead to information overload.\n",
        "* While the responses appear to be factually correct, the LLM may not necessarily be trained on the most up-to-date medical information and procedures and therefore the responses may not be optimal.\n",
        "\n",
        "\n"
      ],
      "metadata": {
        "id": "MgyeoW3XPycZ"
      }
    },
    {
      "cell_type": "markdown",
      "metadata": {
        "id": "g5myZ5dOOefc"
      },
      "source": [
        "## Question Answering using LLM with Prompt Engineering and LLM fine-tuning"
      ]
    },
    {
      "cell_type": "markdown",
      "metadata": {
        "id": "9Jg3r_LWOeff"
      },
      "source": [
        "### Query 1: What is the protocol for managing sepsis in a critical care unit?\n",
        "\n"
      ]
    },
    {
      "cell_type": "code",
      "source": [
        "q1=\"\"\"\n",
        "Summarize the key steps in the standard protocol for managing sepsis in a critical care unit.\n",
        "Focus only on initial recognition, immediate interventions, and ongoing monitoring.\n",
        "Keep the response concise and structured as bullet points\n",
        "\"\"\"\n",
        "print(response(q1,top_p=0.9))"
      ],
      "metadata": {
        "id": "YqM4VMw5ROhX",
        "colab": {
          "base_uri": "https://localhost:8080/"
        },
        "outputId": "b4d60e73-e422-4e69-aae7-af275c063bae"
      },
      "execution_count": 46,
      "outputs": [
        {
          "output_type": "stream",
          "name": "stderr",
          "text": [
            "Llama.generate: prefix-match hit\n"
          ]
        },
        {
          "output_type": "stream",
          "name": "stdout",
          "text": [
            "\n",
            "* Initial recognition:\n",
            "\t+ Rapid assessment of vital signs (tachycardia, tachypnea, hypertension, hypotension)\n",
            "\t+ Assessment of mental status (confusion, agitation, lethargy)\n",
            "\t+ Identification of source of infection (urinary tract, respiratory, surgical site, etc.)\n",
            "* Immediate interventions:\n",
            "\t+ Administration of broad-spectrum antibiotics\n",
            "\t+ Intravenous fluid resuscitation (fluids and vasopressors as needed)\n",
            "\t+ Oxygen therapy (non-invasive or invasive if necessary)\n",
            "\t+ Early mobilization (e.g., turning, repositioning) to prevent immobility-related complications\n",
            "* Ongoing monitoring:\n",
            "\t+ Continuous vital sign monitoring (temperature, blood pressure, heart rate, respiratory rate, oxygen saturation)\n",
            "\t+ Regular assessment of mental status and level of consciousness\n",
            "\t+ Close observation for signs of organ dysfunction or failure (e.g., kidney, liver, cardiac)\n",
            "\t+ Frequent blood cultures and other diagnostic tests as needed to guide management\n"
          ]
        }
      ]
    },
    {
      "cell_type": "markdown",
      "source": [
        "Observations:\n",
        "\n",
        "* Prompt engineering techniques\n",
        "  * Instruction refinement and scoping\n",
        "    * This allows for a summarized, structured and concise response, preventing information overload.\n",
        "\n",
        "  * LLM Fine-tuning\n",
        "    * Top_p is reduced from .95 to 0.9.\n",
        "      * This decreases the cumulative probability cutoff for token selection. This leads to a less diverse response.\n",
        "\n",
        "\n",
        "\n"
      ],
      "metadata": {
        "id": "DWkiC6NBSZmu"
      }
    },
    {
      "cell_type": "markdown",
      "metadata": {
        "id": "iYpyw4HjOeff"
      },
      "source": [
        "### Query 2: What are the common symptoms for appendicitis, and can it be cured via medicine? If not, what surgical procedure should be followed to treat it?"
      ]
    },
    {
      "cell_type": "code",
      "source": [
        "q2=\"\"\"\n",
        "List the common symptoms of appendicitis.\n",
        "Then, briefly explain whether it can be treated with medicine alone,\n",
        "and if not, name the standard surgical procedure used.\n",
        "Keep the answer short and clear, using bullet points.\n",
        "\"\"\"\n",
        "print(response(q2,temperature=0.1))"
      ],
      "metadata": {
        "id": "GXl09pFfRPBr",
        "colab": {
          "base_uri": "https://localhost:8080/"
        },
        "outputId": "da278b4c-62ba-475d-a1a7-5d1567e34d09"
      },
      "execution_count": 47,
      "outputs": [
        {
          "output_type": "stream",
          "name": "stderr",
          "text": [
            "Llama.generate: prefix-match hit\n"
          ]
        },
        {
          "output_type": "stream",
          "name": "stdout",
          "text": [
            "\n",
            "Symptoms of Appendicitis:\n",
            "• Severe pain in the lower right abdomen that starts suddenly and worsens quickly\n",
            "• Nausea and vomiting\n",
            "• Loss of appetite\n",
            "• Fever\n",
            "• Abdominal tenderness and swelling\n",
            "• Abdominal guarding (tightening of muscles to guard the area from the pain)\n",
            "\n",
            "Can Appendicitis be treated with medicine alone?\n",
            "No, appendicitis cannot be treated with medicine alone.\n",
            "\n",
            "Standard Surgical Procedure for Appendicitis:\n",
            "• Appendectomy (removal of the inflamed appendix)\n",
            "• Open appendectomy (incision in the abdomen to access the appendix) or laparoscopic appendectomy (minimally invasive surgery using a camera and specialized instruments)\n"
          ]
        }
      ]
    },
    {
      "cell_type": "markdown",
      "source": [
        "Observations:\n",
        "\n",
        "* Prompt engineering techniques\n",
        "  * Decomposition: The original prompt combined three questions into one. I broke it down into a clear sequence: (1) symptoms → (2) medicine vs surgery → (3) surgical procedure. This ensures clarity and enhances the model response.\n",
        "\n",
        "  * Output Structuring: I requested bullet points to ensure the answer is easy to scan and avoids long paragraphs, reducing information overload.\n",
        "  \n",
        "\n",
        "* LLM Fine-tuning\n",
        "    * Increasing temperature from 0 to 0.1\n",
        "      * This increases the 'randomness' of the response and leads to more 'creativity'. In the context of the medical field, this would not be recommended as we want the responses to be as deterministic as possible.\n",
        "\n"
      ],
      "metadata": {
        "id": "FZSmpklCb_dm"
      }
    },
    {
      "cell_type": "markdown",
      "metadata": {
        "id": "dRp92JQZOeff"
      },
      "source": [
        "### Query 3: What are the effective treatments or solutions for addressing sudden patchy hair loss, commonly seen as localized bald spots on the scalp, and what could be the possible causes behind it?"
      ]
    },
    {
      "cell_type": "code",
      "source": [
        "q3=\"\"\"\n",
        "Briefly explain the possible causes of sudden patchy hair loss (localized bald spots on the scalp).\n",
        "Then, list effective treatment options. Present the answer in two sections: Causes and Treatments,\n",
        "with bullet points under each.\n",
        "\"\"\"\n",
        "print(response(q3,top_k=30))"
      ],
      "metadata": {
        "id": "JOgATEpMRPve",
        "colab": {
          "base_uri": "https://localhost:8080/"
        },
        "outputId": "3a193138-f435-4f35-a8e9-281c94724320"
      },
      "execution_count": 48,
      "outputs": [
        {
          "output_type": "stream",
          "name": "stderr",
          "text": [
            "Llama.generate: prefix-match hit\n"
          ]
        },
        {
          "output_type": "stream",
          "name": "stdout",
          "text": [
            "\n",
            "Causes of Sudden Patchy Hair Loss:\n",
            "• Genetics: Inheritance plays a significant role in many cases of patchy hair loss.\n",
            "• Autoimmune Disorders: Conditions like alopecia areata, lupus, and rheumatoid arthritis can cause sudden patchy hair loss due to an immune system imbalance.\n",
            "• Hormonal Imbalances: Changes in hormone levels, such as those experienced during pregnancy or menopause, can lead to patchy hair loss.\n",
            "• Medications: Certain medications like chemotherapy drugs and blood thinners can cause sudden patchy hair loss as a side effect.\n",
            "• Infections: Fungal infections of the scalp (such as ringworm) or bacterial infections can lead to patchy hair loss.\n",
            "• Traction Alopecia: Excessive styling and pulling on the hair, such as tight braids or ponytails, can cause localized bald spots due to traction alopecia.\n",
            "Treatment Options for Sudden Patchy Hair Loss:\n",
            "• Medications: Minoxidil (Rogaine) and finasteride (Propecia) are two medications FDA-approved for treating patchy hair loss. Minoxidil stimulates hair growth, while finasteride slows down hair loss.\n",
            "• Low-Level Laser Therapy (LLLT): LLLT uses a low-level laser or light-emitting diode to stimulate hair growth and promote hair thickness.\n",
            "• Platelet-Rich Plasma (PRP) Therapy: PRP therapy involves injecting platelets from the patient's own blood into the scalp to stimulate hair growth.\n",
            "• Hair Transplantation: Hair transplantation involves moving healthy hair follicles from one part of the scalp to another, filling in bald spots and restoring a natural-looking hairline.\n",
            "• Dietary Changes: Eating a diet rich in vitamins, minerals, and proteins can help promote hair growth and reduce patchy hair loss.\n",
            "• Reducing Stress: High stress levels have been linked to patchy hair loss, so finding ways to manage stress through relaxation techniques\n"
          ]
        }
      ]
    },
    {
      "cell_type": "markdown",
      "source": [
        "Observations:\n",
        "\n",
        "* Prompt engineering techniques\n",
        "  * Instruction Refinement: I specified \"briefly explain\" to prevent overly detailed medical explanations.\n",
        "\n",
        "  * Output Structuring: I asked for a two-section format (Causes and Treatments) with bullet points, ensuring clarity and avoiding information overload.\n",
        "\n",
        "* LLM Fine-tuning\n",
        "    * Top_k is reduced from 50 to 30\n",
        "      * This lowers the maximum number of most-likely token to consider at each step which will make the response more focused\n",
        "\n"
      ],
      "metadata": {
        "id": "JJu-YFmQcH4h"
      }
    },
    {
      "cell_type": "markdown",
      "metadata": {
        "id": "AA45zwyUOefg"
      },
      "source": [
        "### Query 4:  What treatments are recommended for a person who has sustained a physical injury to brain tissue, resulting in temporary or permanent impairment of brain function?"
      ]
    },
    {
      "cell_type": "code",
      "source": [
        "q4=\"\"\"\n",
        "Summarize the recommended treatments for brain injuries that impair brain function.\n",
        "Organize the answer into three parts: (1) Immediate medical care, (2) Rehabilitation therapies,\n",
        "(3) Long-term management/support. Keep the response concise and avoid excessive detail.\n",
        "\"\"\"\n",
        "print(response(q4,max_tokens=1024))"
      ],
      "metadata": {
        "id": "VA7G8FOnRQZY",
        "colab": {
          "base_uri": "https://localhost:8080/"
        },
        "outputId": "5a33e673-7065-42ce-f62f-75c7affb62bd"
      },
      "execution_count": 49,
      "outputs": [
        {
          "output_type": "stream",
          "name": "stderr",
          "text": [
            "Llama.generate: prefix-match hit\n"
          ]
        },
        {
          "output_type": "stream",
          "name": "stdout",
          "text": [
            "\n",
            "Part 1: Immediate Medical Care\n",
            "The primary goal of immediate medical care for brain injuries is to stabilize the patient's condition and prevent further damage. This may involve:\n",
            "* Monitoring vital signs, such as blood pressure and oxygen levels.\n",
            "* Managing swelling by keeping the patient's head immobile or using a special collar.\n",
            "* Controlling bleeding through surgery or medication.\n",
            "* Providing oxygen therapy or mechanical ventilation if needed.\n",
            "\n",
            "Part 2: Rehabilitation Therapies\n",
            "Rehabilitation therapies aim to help the patient regain lost functions and skills, such as:\n",
            "* Physical therapy to improve mobility and balance.\n",
            "* Occupational therapy to help with daily activities like dressing and feeding.\n",
            "* Speech therapy to improve communication and language skills.\n",
            "* Cognitive therapy to enhance memory, attention, and problem-solving abilities.\n",
            "\n",
            "Part 3: Long-term Management/Support\n",
            "Long-term management and support for brain injuries may involve:\n",
            "* Monitoring the patient's condition and adjusting treatment plans as needed.\n",
            "* Providing ongoing rehabilitation therapies to maintain progress and prevent decline.\n",
            "* Managing any chronic symptoms or complications, such as seizures or depression.\n",
            "* Offering support and resources for the patient's family and caregivers.\n"
          ]
        }
      ]
    },
    {
      "cell_type": "markdown",
      "source": [
        "Observations:\n",
        "\n",
        "* Prompt engineering techniques\n",
        "  * Scoping: Narrowed the broad medical question to focus only on treatment categories instead of full pathophysiology.\n",
        "\n",
        "  * Output Structuring: Requested a three-part framework, which helps present information in a logical, digestible way and prevents information overload.\n",
        "\n",
        "* LLM Fine-tuning\n",
        "    * Increasing max_tokens from 512 to 1024.\n",
        "      * This increases the maximum length of the response. While it could lead to infiormation overload, it will allow the model to respond fully without truncation.\n",
        "\n"
      ],
      "metadata": {
        "id": "t33QgoNUcMcR"
      }
    },
    {
      "cell_type": "markdown",
      "metadata": {
        "id": "TYXxiSuBOefg"
      },
      "source": [
        "### Query 5: What are the necessary precautions and treatment steps for a person who has fractured their leg during a hiking trip, and what should be considered for their care and recovery?"
      ]
    },
    {
      "cell_type": "code",
      "source": [
        "q5=\"\"\"\n",
        "Explain the precautions and treatment steps for a leg fracture during a hiking trip.\n",
        "Divide the answer into three parts: (1) Immediate first aid on-site,\n",
        "(2) Medical treatment after reaching care, (3) Key considerations for recovery and rehabilitation.\n",
        "Keep the response clear and concise, using bullet points.\n",
        "\"\"\"\n",
        "print(response(q5,max_tokens=256,top_p=0.8,top_k=20))"
      ],
      "metadata": {
        "id": "mE2GMQk8RQ_p",
        "colab": {
          "base_uri": "https://localhost:8080/"
        },
        "outputId": "5ec5e0e7-b368-49f4-d5a9-5996ffe39f54"
      },
      "execution_count": 50,
      "outputs": [
        {
          "output_type": "stream",
          "name": "stderr",
          "text": [
            "Llama.generate: prefix-match hit\n"
          ]
        },
        {
          "output_type": "stream",
          "name": "stdout",
          "text": [
            "\n",
            "Part 1 - Immediate First Aid On-Site:\n",
            "• Assess the situation and determine the severity of the fracture.\n",
            "• Apply direct pressure to the affected area to control bleeding.\n",
            "• Elevate the injured leg above heart level to reduce swelling.\n",
            "• Use a splint or immobilize the leg with a walking stick to prevent further movement.\n",
            "• Keep the patient warm and comfortable, using extra clothing or a space blanket if available.\n",
            "• Administer pain medication as needed (e.g., ibuprofen or acetaminophen).\n",
            "\n",
            "Part 2 - Medical Treatment After Reaching Care:\n",
            "• Call for emergency medical services (EMS) and provide location information.\n",
            "• Transport the patient to a hospital or clinic for further evaluation and treatment.\n",
            "• A healthcare professional will perform a thorough examination, X-rays or other imaging tests may be ordered to confirm the fracture and determine its severity.\n",
            "• Treatment may include casting or surgery, depending on the severity of the fracture.\n",
            "• Monitor the patient for signs of complications such as infection or nerve\n"
          ]
        }
      ]
    },
    {
      "cell_type": "markdown",
      "source": [
        "Observations:\n",
        "\n",
        "* Prompt engineering techniques\n",
        "  * Decomposition: Split the question into clear stages of care (on-site → medical → recovery) to avoid a long, mixed explanation.\n",
        "\n",
        "  * Output Structuring: Requested sections with bullet points to ensure clarity and prevent information overload.\n",
        "  \n",
        "\n",
        "* LLM Fine-tuning\n",
        "  * Decrease max token from 512 to 256\n",
        "    * This lead to truncation and prevented the model from explaining part 3.\n",
        "  * Decrease top_p from 0.95 to 0.8\n",
        "  * Decrease in top_k from 50 to 20\n",
        "    * These parameter changes leads to a more concise, focused and deterministic response which is necessary in the medical field.\n",
        "\n"
      ],
      "metadata": {
        "id": "PR1eIZLKcJlu"
      }
    },
    {
      "cell_type": "markdown",
      "source": [
        "## Data Preparation for RAG"
      ],
      "metadata": {
        "id": "t_O1PGdNO2M9"
      }
    },
    {
      "cell_type": "markdown",
      "metadata": {
        "id": "uTpWESc53dL9"
      },
      "source": [
        "### Loading the Data"
      ]
    },
    {
      "cell_type": "code",
      "source": [
        "# Mounting google drive\n",
        "from google.colab import drive\n",
        "drive.mount('/content/drive')\n",
        "\n",
        "# Loading the medical journal\n",
        "pdf_file='/content/drive/MyDrive/AIML/M5_NLP/Project/medical_diagnosis_manual.pdf'\n",
        "pdf_loader = PyMuPDFLoader(pdf_file)"
      ],
      "metadata": {
        "id": "ybj2cEnzRSXq",
        "colab": {
          "base_uri": "https://localhost:8080/"
        },
        "outputId": "bc8dadb8-0877-40b0-96e8-637358f3a06a"
      },
      "execution_count": 17,
      "outputs": [
        {
          "output_type": "stream",
          "name": "stdout",
          "text": [
            "Drive already mounted at /content/drive; to attempt to forcibly remount, call drive.mount(\"/content/drive\", force_remount=True).\n"
          ]
        }
      ]
    },
    {
      "cell_type": "markdown",
      "metadata": {
        "id": "ffj0ca3eZT4u"
      },
      "source": [
        "### Data Overview"
      ]
    },
    {
      "cell_type": "markdown",
      "metadata": {
        "id": "f9weTDzMxRRS"
      },
      "source": [
        "#### Checking the first 5 pages"
      ]
    },
    {
      "cell_type": "code",
      "source": [
        "# Load the document into pages\n",
        "pages = pdf_loader.load()\n",
        "\n",
        "# Print the first 5 pages\n",
        "for i, page in enumerate(pages[:5]):\n",
        "    print(f\"\\n--- Page {i+1} ---\\n\")\n",
        "    print(page.page_content[:1000])  # print first 1000 characters for readability"
      ],
      "metadata": {
        "id": "MSEiL--bRTZT",
        "colab": {
          "base_uri": "https://localhost:8080/"
        },
        "outputId": "d5685e84-2448-40b3-a9d7-875f7997a284"
      },
      "execution_count": 18,
      "outputs": [
        {
          "output_type": "stream",
          "name": "stdout",
          "text": [
            "\n",
            "--- Page 1 ---\n",
            "\n",
            "gadi.shepherd@gmail.com\n",
            "S9V2MR8AOK\n",
            "ant for personal use by gadi.shepherd@g\n",
            "shing the contents in part or full is liable \n",
            "\n",
            "\n",
            "--- Page 2 ---\n",
            "\n",
            "gadi.shepherd@gmail.com\n",
            "S9V2MR8AOK\n",
            "This file is meant for personal use by gadi.shepherd@gmail.com only.\n",
            "Sharing or publishing the contents in part or full is liable for legal action.\n",
            "\n",
            "\n",
            "--- Page 3 ---\n",
            "\n",
            "Table of Contents\n",
            "1\n",
            "Front    ................................................................................................................................................................................................................\n",
            "1\n",
            "Cover    .......................................................................................................................................................................................................\n",
            "2\n",
            "Front Matter    ...........................................................................................................................................................................................\n",
            "53\n",
            "1 - Nutritional Disorders    ...............................................................................................................................................................\n",
            "53\n",
            "Chapter 1. Nutrition: General Considerations    ......................................................................................................\n",
            "\n",
            "--- Page 4 ---\n",
            "\n",
            "491\n",
            "Chapter 44. Foot & Ankle Disorders    .....................................................................................................................................\n",
            "502\n",
            "Chapter 45. Tumors of Bones & Joints    ...............................................................................................................................\n",
            "510\n",
            "5 - Ear, Nose, Throat & Dental Disorders    ..................................................................................................................\n",
            "510\n",
            "Chapter 46. Approach to the Patient With Ear Problems    ...........................................................................................\n",
            "523\n",
            "Chapter 47. Hearing Loss    .........................................................................................................................................................\n",
            "535\n",
            "Chapter 48. Inner Ear Disorders    ...............................................................................................................\n",
            "\n",
            "--- Page 5 ---\n",
            "\n",
            "921\n",
            "Chapter 94. Adrenal Disorders    ................................................................................................................................................\n",
            "936\n",
            "Chapter 95. Polyglandular Deficiency Syndromes    ........................................................................................................\n",
            "939\n",
            "Chapter 96. Porphyrias    ..............................................................................................................................................................\n",
            "949\n",
            "Chapter 97. Fluid & Electrolyte Metabolism    .....................................................................................................................\n",
            "987\n",
            "Chapter 98. Acid-Base Regulation & Disorders    ..............................................................................................................\n",
            "1001\n",
            "Chapter 99. Diabetes Mellitus & Disorders of Carbohydrate Metabolism    ........................................................\n",
            "1024\n",
            "\n"
          ]
        }
      ]
    },
    {
      "cell_type": "markdown",
      "metadata": {
        "id": "7-wNNalNxPKT"
      },
      "source": [
        "#### Checking the number of pages"
      ]
    },
    {
      "cell_type": "code",
      "source": [
        "# Check number of pages\n",
        "print(f\"Total pages: {len(pages)}\")"
      ],
      "metadata": {
        "id": "-NuC-6SNRT7K",
        "colab": {
          "base_uri": "https://localhost:8080/"
        },
        "outputId": "be0062e8-9200-43d2-f86a-57895c6bc6b5"
      },
      "execution_count": 19,
      "outputs": [
        {
          "output_type": "stream",
          "name": "stdout",
          "text": [
            "Total pages: 4114\n"
          ]
        }
      ]
    },
    {
      "cell_type": "markdown",
      "metadata": {
        "id": "LECMxTH-zB-R"
      },
      "source": [
        "### Data Chunking"
      ]
    },
    {
      "cell_type": "code",
      "source": [
        "# Breaking text into chunks with overlap\n",
        "text_splitter = RecursiveCharacterTextSplitter.from_tiktoken_encoder(\n",
        "    encoding_name='cl100k_base',\n",
        "    chunk_size=256,\n",
        "    chunk_overlap=16\n",
        ")"
      ],
      "metadata": {
        "id": "ir9Zi8rKRUmG"
      },
      "execution_count": 20,
      "outputs": []
    },
    {
      "cell_type": "code",
      "source": [
        "# Creates a pdf with the chunks of text\n",
        "document_chunks = pdf_loader.load_and_split(text_splitter)"
      ],
      "metadata": {
        "id": "Oh8qh4aFQ-p-"
      },
      "execution_count": 21,
      "outputs": []
    },
    {
      "cell_type": "markdown",
      "metadata": {
        "id": "BvHVejcWz0Bl"
      },
      "source": [
        "### Embedding"
      ]
    },
    {
      "cell_type": "code",
      "source": [
        "# Loading an embedding model to embed the chunks\n",
        "embedding_model = SentenceTransformerEmbeddings(model_name='all-MiniLM-L6-v2')"
      ],
      "metadata": {
        "id": "R3CAgoUeRVLa",
        "colab": {
          "base_uri": "https://localhost:8080/"
        },
        "outputId": "17a9abfb-9d1c-49a2-bd48-850f27015bd2"
      },
      "execution_count": 22,
      "outputs": [
        {
          "output_type": "stream",
          "name": "stderr",
          "text": [
            "/tmp/ipython-input-1488663231.py:1: LangChainDeprecationWarning: The class `HuggingFaceEmbeddings` was deprecated in LangChain 0.2.2 and will be removed in 1.0. An updated version of the class exists in the :class:`~langchain-huggingface package and should be used instead. To use it run `pip install -U :class:`~langchain-huggingface` and import as `from :class:`~langchain_huggingface import HuggingFaceEmbeddings``.\n",
            "  embedding_model = SentenceTransformerEmbeddings(model_name='all-MiniLM-L6-v2')\n"
          ]
        }
      ]
    },
    {
      "cell_type": "markdown",
      "metadata": {
        "id": "qiKCOv4X0d7B"
      },
      "source": [
        "### Vector Database"
      ]
    },
    {
      "cell_type": "code",
      "source": [
        "# Creating a Chroma vector database\n",
        "report = 'Journal_QnA'\n",
        "vectorstore = Chroma.from_documents(\n",
        "    document_chunks,\n",
        "    embedding_model,\n",
        "    collection_name=report\n",
        ")"
      ],
      "metadata": {
        "id": "MT6xYz2XWV2L",
        "colab": {
          "base_uri": "https://localhost:8080/"
        },
        "outputId": "0efc0d93-cef8-434d-c986-05c2c8d68348"
      },
      "execution_count": 23,
      "outputs": [
        {
          "output_type": "stream",
          "name": "stderr",
          "text": [
            "ERROR:chromadb.telemetry.product.posthog:Failed to send telemetry event ClientStartEvent: capture() takes 1 positional argument but 3 were given\n",
            "ERROR:chromadb.telemetry.product.posthog:Failed to send telemetry event ClientCreateCollectionEvent: capture() takes 1 positional argument but 3 were given\n"
          ]
        }
      ]
    },
    {
      "cell_type": "markdown",
      "metadata": {
        "id": "uEa5sKc41T1z"
      },
      "source": [
        "### Retriever"
      ]
    },
    {
      "cell_type": "code",
      "source": [
        "# Setting up a retriever to be utlized in the RAG model\n",
        "retriever = vectorstore.as_retriever(\n",
        "    search_type='similarity',\n",
        "    search_kwargs={'k': 6} # The retriever will fetch the 6 most similar context chunks to the user query\n",
        ")"
      ],
      "metadata": {
        "id": "wBlQUGx3RWUD"
      },
      "execution_count": 24,
      "outputs": []
    },
    {
      "cell_type": "markdown",
      "metadata": {
        "id": "vw8qcwq66B0C",
        "nteract": {
          "transient": {
            "deleting": false
          }
        }
      },
      "source": [
        "### System and User Prompt Template"
      ]
    },
    {
      "cell_type": "code",
      "source": [
        "# System messgae template\n",
        "qna_system_message=\"\"\"\n",
        "You are an assistant whose work is to give answers to questions with respect to a context.\n",
        "User input will have the context required by you to answer user questions.\n",
        "\n",
        "This context will begin with the token: ###Context.\n",
        "The context contains references to specific portions of a document relevant to the user query.\n",
        "\n",
        "User questions will begin with the token: ###Question.\n",
        "\n",
        "Strictly use only the information provided in the ###Context.\n",
        "Do not mention anything about the information in ###Context or the question in ###Question in your final answer.\n",
        "\n",
        "If the answer to ###Question cannot be derived from the ###Context, just respond by saying \"I don't know\".\n",
        "\n",
        "Remember that the answer to ###Question might not always be directly present in the information provided in the ###Context.\n",
        "the answer can be indirectly derived from the information in ###Context.\n",
        "\n",
        "\"\"\""
      ],
      "metadata": {
        "id": "GF_4399TRW5D"
      },
      "execution_count": 25,
      "outputs": []
    },
    {
      "cell_type": "code",
      "source": [
        "# User prompt template\n",
        "qna_user_message_template=\"\"\"\n",
        "Consider the following ###Context and ###Question\n",
        "###Context\n",
        "{context}\n",
        "\n",
        "###Question\n",
        "{question}\n",
        "\"\"\""
      ],
      "metadata": {
        "id": "UyfF3q5z6c4g"
      },
      "execution_count": 26,
      "outputs": []
    },
    {
      "cell_type": "markdown",
      "metadata": {
        "id": "TkIteX4m6mny"
      },
      "source": [
        "### Response Function"
      ]
    },
    {
      "cell_type": "code",
      "source": [
        "# Defining a function to generate a RAG response\n",
        "def generate_RAG_response(user_input, llm, k=3, max_tokens=256, temperature=0, top_p=0.95, top_k=50):\n",
        "    relevant_document_chunks = retriever.get_relevant_documents(user_input, k=k)\n",
        "    context_list = [d.page_content.replace(\"\\t\", \" \") for d in relevant_document_chunks]\n",
        "    context_for_query = \". \".join(context_list)\n",
        "\n",
        "    prompt = f\"\"\"[INST] <<SYS>>\n",
        "{qna_system_message}\n",
        "<</SYS>>\n",
        "\n",
        "{qna_user_message_template.format(context=context_for_query, question=user_input)} [/INST]\"\"\"\n",
        "\n",
        "    try:\n",
        "        response = llm(\n",
        "            prompt=prompt,\n",
        "            max_tokens=max_tokens,\n",
        "            temperature=temperature,\n",
        "            top_p=top_p,\n",
        "            top_k=top_k,\n",
        "            stop=[\"[/INST]\"],\n",
        "            echo=False\n",
        "        )\n",
        "        prediction = response[\"choices\"][0][\"text\"].strip()\n",
        "    except Exception as e:\n",
        "        prediction = f\"Sorry, I encountered the following error:\\n{e}\"\n",
        "\n",
        "    return prediction\n"
      ],
      "metadata": {
        "id": "kdjjfZYBd-1d"
      },
      "execution_count": 72,
      "outputs": []
    },
    {
      "cell_type": "markdown",
      "source": [
        "Default Parameters:\n",
        "\n",
        "* k=3\n",
        "    * The number of most similar chunks to be added as context to the query\n",
        "* max_tokens=256\n",
        "* temperature=0\n",
        "* top_p=0.95\n",
        "* top_k=50"
      ],
      "metadata": {
        "id": "8j8_CgC3wNTz"
      }
    },
    {
      "cell_type": "markdown",
      "source": [
        "## Question Answering using RAG"
      ],
      "metadata": {
        "id": "ffP1SRYbPQHN"
      }
    },
    {
      "cell_type": "markdown",
      "metadata": {
        "id": "JjajBEj06B0E"
      },
      "source": [
        "### Query 1: What is the protocol for managing sepsis in a critical care unit?"
      ]
    },
    {
      "cell_type": "code",
      "source": [
        "print(generate_RAG_response(query_dict[1],lcpp_llm))"
      ],
      "metadata": {
        "id": "Nlo9sMpPRbTP",
        "colab": {
          "base_uri": "https://localhost:8080/"
        },
        "outputId": "25e3d131-8537-42de-f7bb-d7741b9627c1"
      },
      "execution_count": 76,
      "outputs": [
        {
          "output_type": "stream",
          "name": "stderr",
          "text": [
            "Llama.generate: prefix-match hit\n"
          ]
        },
        {
          "output_type": "stream",
          "name": "stdout",
          "text": [
            "Based on the provided ###Context, the answer to ###Question is:\n",
            "The protocol for managing sepsis in a critical care unit includes provision of adequate nutrition, prevention of infection, stress ulcers and gastritis, and pulmonary embolism, as well as monitoring and testing. Additionally, emerging therapies such as cooling for hyperthermia and early treatment of renal failure may be employed. However, it is important to note that the protocol may vary depending on the severity of the sepsis and the individual patient's needs.\n"
          ]
        }
      ]
    },
    {
      "cell_type": "markdown",
      "metadata": {
        "id": "QDw8zXuq6B0F"
      },
      "source": [
        "### Query 2: What are the common symptoms for appendicitis, and can it be cured via medicine? If not, what surgical procedure should be followed to treat it?"
      ]
    },
    {
      "cell_type": "code",
      "source": [
        "print(generate_RAG_response(query_dict[2],lcpp_llm))"
      ],
      "metadata": {
        "id": "PVReF4G8RbzR",
        "colab": {
          "base_uri": "https://localhost:8080/"
        },
        "outputId": "440a3782-1564-4b59-eeaa-1d77116ca965"
      },
      "execution_count": 75,
      "outputs": [
        {
          "output_type": "stream",
          "name": "stderr",
          "text": [
            "Llama.generate: prefix-match hit\n"
          ]
        },
        {
          "output_type": "stream",
          "name": "stdout",
          "text": [
            "Based on the provided ###Context, the answer to ###Question is:\n",
            "The common symptoms of appendicitis include epigastric or periumbilical pain followed by brief nausea, vomiting, and anorexia; after a few hours, the pain shifts to the right lower quadrant. Other signs are right lower quadrant direct and rebound tenderness located at McBurney's point (junction of the middle and outer thirds of the line joining the umbilicus to the anterior superior spine).\n",
            "Acute appendicitis is typically treated with surgical removal of the inflamed appendix, either through an open or laparoscopic appendectomy. Antibiotics may be given before or after surgery to treat any underlying infection. While antibiotics can help manage symptoms and reduce the risk of complications, they are not a substitute for surgical intervention, as untreated appendicitis can lead to serious complications such as perforation, gangrene, and death.\n",
            "In some cases, appendicitis may be difficult to diagnose, and the appendix may be located behind the cecum or ileum and m\n"
          ]
        }
      ]
    },
    {
      "cell_type": "markdown",
      "metadata": {
        "id": "TggYyQPL6B0G"
      },
      "source": [
        "### Query 3: What are the effective treatments or solutions for addressing sudden patchy hair loss, commonly seen as localized bald spots on the scalp, and what could be the possible causes behind it?"
      ]
    },
    {
      "cell_type": "code",
      "source": [
        "print(generate_RAG_response(query_dict[3],lcpp_llm))"
      ],
      "metadata": {
        "id": "0aRbadGtRcX0",
        "colab": {
          "base_uri": "https://localhost:8080/"
        },
        "outputId": "ae205b12-09bc-49ac-92f3-12adbeaf54f6"
      },
      "execution_count": 77,
      "outputs": [
        {
          "output_type": "stream",
          "name": "stderr",
          "text": [
            "Llama.generate: prefix-match hit\n"
          ]
        },
        {
          "output_type": "stream",
          "name": "stdout",
          "text": [
            "Based on the provided ###Context, the answer to ###Question is:\n",
            "The effective treatments or solutions for addressing sudden patchy hair loss, commonly seen as localized bald spots on the scalp, include:\n",
            "1. Alopecia areata: Treatment options for alopecia areata include topical, intralesional, or systemic corticosteroids, topical minoxidil, topical anthralin, topical immunotherapy (diphencyprone or squaric acid dibutylester), or psoralen plus ultraviolet A (PUVA).\n",
            "2. Lichen planopilaris: Treatment options for lichen planopilaris include oral antimalarials, corticosteroids, retinoids, or immunosuppressants.\n",
            "3. Chronic cutaneous lupus lesions: Treatment options for chronic cutaneous lupus lesions include oral antimalarials, corticosteroids, retinoids, or immunosuppressants.\n",
            "4. Telogen effluvium: Treatment options for telogen effluvium include addressing the underlying cause\n"
          ]
        }
      ]
    },
    {
      "cell_type": "markdown",
      "metadata": {
        "id": "1TgxdI-_6B0G"
      },
      "source": [
        "### Query 4:  What treatments are recommended for a person who has sustained a physical injury to brain tissue, resulting in temporary or permanent impairment of brain function?"
      ]
    },
    {
      "cell_type": "code",
      "source": [
        "print(generate_RAG_response(query_dict[4],lcpp_llm))"
      ],
      "metadata": {
        "id": "0vzRX1TcRc29",
        "colab": {
          "base_uri": "https://localhost:8080/"
        },
        "outputId": "2106822f-f247-43b6-cde9-dfaaa9b5fb24"
      },
      "execution_count": 78,
      "outputs": [
        {
          "output_type": "stream",
          "name": "stderr",
          "text": [
            "Llama.generate: prefix-match hit\n"
          ]
        },
        {
          "output_type": "stream",
          "name": "stdout",
          "text": [
            "Based on the provided ###Context, the answer to ###Question is:\n",
            "\"Rehabilitation services should be planned early.\"\n",
            "This answer can be indirectly derived from the information provided in the ###Context. The context highlights the importance of early intervention and rehabilitation for maximal functional recovery in patients with head injury or spinal cord injury. It also mentions that supportive care, including prevention of systemic complications, good nutrition, and physical therapy to prevent limb contractures, is crucial for these patients. Therefore, the recommended treatment for a person who has sustained a physical injury to brain tissue resulting in temporary or permanent impairment of brain function is early rehabilitation services.\n"
          ]
        }
      ]
    },
    {
      "cell_type": "markdown",
      "metadata": {
        "id": "FlHXYCkm6B0H"
      },
      "source": [
        "### Query 5: What are the necessary precautions and treatment steps for a person who has fractured their leg during a hiking trip, and what should be considered for their care and recovery?"
      ]
    },
    {
      "cell_type": "code",
      "source": [
        "print(generate_RAG_response(query_dict[5],lcpp_llm))"
      ],
      "metadata": {
        "id": "sarpUibcRdhq",
        "colab": {
          "base_uri": "https://localhost:8080/"
        },
        "outputId": "139b8a4a-d4c2-4a05-bd69-6cd70ce2dc1d"
      },
      "execution_count": 79,
      "outputs": [
        {
          "output_type": "stream",
          "name": "stderr",
          "text": [
            "Llama.generate: prefix-match hit\n"
          ]
        },
        {
          "output_type": "stream",
          "name": "stdout",
          "text": [
            "Based on the provided ###Context, the answer to ###Question is:\n",
            "The necessary precautions and treatment steps for a person who has fractured their leg during a hiking trip are as follows:\n",
            "1. Immediate splinting: The affected leg should be immobilized with a non-rigid or non-circumferential splint to prevent further injury to soft tissues and to decrease pain.\n",
            "2. Pain management: Pain should be managed with analgesics, and the patient should be kept comfortable.\n",
            "3. Evaluation for hemorrhagic shock: If the patient is experiencing signs of hemorrhagic shock (such as absent pulses, marked pale skin, or severe pain), they should be evaluated immediately.\n",
            "4. Transportation to a medical facility: The patient should be transported to a medical facility as soon as possible for further evaluation and treatment.\n",
            "5. Reduction and internal fixation: If the fracture is displaced, it may need to be reduced (moved back into place) and internally fixed with plates, screws, or rods to prevent further displacement and promote healing.\n",
            "6. Follow\n"
          ]
        }
      ]
    },
    {
      "cell_type": "markdown",
      "source": [
        "Observations on RAG responses:\n",
        "\n",
        "\n",
        "\n",
        "*   The responses appear to be more focused, accurate and detailed.\n",
        "     * This is due to the RAG model retrieving context from the medical journal. This increases the accuracy of the response and reduces the liklihood of hallucination.\n",
        "*   The RAG model is designed in a way to answer the user input only using the context. If there is no information in the context relating to the user input, then the model should state that 'I don't know'.\n",
        "     * However the model seems to have successfully retrieve the relevant context for each query.\n",
        "* Some of the responses are truncated due to the max token limit.\n",
        "\n"
      ],
      "metadata": {
        "id": "t-WblOwapf9M"
      }
    },
    {
      "cell_type": "markdown",
      "source": [
        "### Fine-tuning"
      ],
      "metadata": {
        "id": "K7TYrqycEITB"
      }
    },
    {
      "cell_type": "markdown",
      "source": [
        "#### Combination 1"
      ],
      "metadata": {
        "id": "qz6-j3RU6eCU"
      }
    },
    {
      "cell_type": "code",
      "source": [
        "text_splitter_256_32 = RecursiveCharacterTextSplitter.from_tiktoken_encoder(\n",
        "    encoding_name='cl100k_base',\n",
        "    chunk_size=256,\n",
        "    chunk_overlap=32\n",
        ")\n",
        "\n",
        "document_chunks_256_32 = pdf_loader.load_and_split(text_splitter_256_32)\n",
        "\n",
        "report_256_32 = 'Journal_QnA_256_32'\n",
        "vectorstore_256_32 = Chroma.from_documents(\n",
        "    document_chunks_256_32,\n",
        "    embedding_model,\n",
        "    collection_name=report_256_32\n",
        ")\n",
        "\n",
        "retriever_256_32 = vectorstore_256_32.as_retriever(\n",
        "    search_type='similarity',\n",
        "    search_kwargs={'k': 6}\n",
        ")"
      ],
      "metadata": {
        "colab": {
          "base_uri": "https://localhost:8080/"
        },
        "id": "T17whdQ14iQi",
        "outputId": "df1739eb-e707-4a51-b0ad-a9ebe52c2370"
      },
      "execution_count": 97,
      "outputs": [
        {
          "output_type": "stream",
          "name": "stderr",
          "text": [
            "ERROR:chromadb.telemetry.product.posthog:Failed to send telemetry event ClientStartEvent: capture() takes 1 positional argument but 3 were given\n",
            "ERROR:chromadb.telemetry.product.posthog:Failed to send telemetry event ClientCreateCollectionEvent: capture() takes 1 positional argument but 3 were given\n"
          ]
        }
      ]
    },
    {
      "cell_type": "code",
      "source": [
        "def generate_RAG_response_256_32(user_input, llm, k=3, max_tokens=256, temperature=0, top_p=0.95, top_k=50):\n",
        "    relevant_document_chunks = retriever_256_32.get_relevant_documents(user_input, k=k)\n",
        "    context_list = [d.page_content.replace(\"\\t\", \" \") for d in relevant_document_chunks]\n",
        "    context_for_query = \". \".join(context_list)\n",
        "\n",
        "    prompt = f\"\"\"[INST] <<SYS>>\n",
        "{qna_system_message}\n",
        "<</SYS>>\n",
        "\n",
        "{qna_user_message_template.format(context=context_for_query, question=user_input)} [/INST]\"\"\"\n",
        "\n",
        "    try:\n",
        "        response = llm(\n",
        "            prompt=prompt,\n",
        "            max_tokens=max_tokens,\n",
        "            temperature=temperature,\n",
        "            top_p=top_p,\n",
        "            top_k=top_k,\n",
        "            stop=[\"[/INST]\"],\n",
        "            echo=False\n",
        "        )\n",
        "        prediction = response[\"choices\"][0][\"text\"].strip()\n",
        "    except Exception as e:\n",
        "        prediction = f\"Sorry, I encountered the following error:\\n{e}\"\n",
        "\n",
        "    return prediction\n"
      ],
      "metadata": {
        "id": "g-P6X6E65th-"
      },
      "execution_count": 98,
      "outputs": []
    },
    {
      "cell_type": "code",
      "source": [
        "generate_RAG_response_256_32(query_dict[1],lcpp_llm,temperature=0.1)"
      ],
      "metadata": {
        "colab": {
          "base_uri": "https://localhost:8080/",
          "height": 160
        },
        "id": "D-uA9_rs7FeU",
        "outputId": "52b9e4e6-9a6e-4447-d4cb-cd0eb0c1ac6f"
      },
      "execution_count": 99,
      "outputs": [
        {
          "output_type": "stream",
          "name": "stderr",
          "text": [
            "ERROR:chromadb.telemetry.product.posthog:Failed to send telemetry event CollectionQueryEvent: capture() takes 1 positional argument but 3 were given\n",
            "Llama.generate: prefix-match hit\n"
          ]
        },
        {
          "output_type": "execute_result",
          "data": {
            "text/plain": [
              "'Based on the provided ###Context, the answer to ###Question is:\\nThe protocol for managing sepsis in a critical care unit involves starting antibiotics as soon as possible, preferably within 8 hours of presentation, and providing supportive care including fluids, antipyretics, analgesics, and oxygen therapy for patients with hypoxemia. The choice of antibiotics is based on the likely pathogens and the severity of illness, and guidelines should be adapted to local susceptibility patterns, drug formularies, and individual patient circumstances.'"
            ],
            "application/vnd.google.colaboratory.intrinsic+json": {
              "type": "string"
            }
          },
          "metadata": {},
          "execution_count": 99
        }
      ]
    },
    {
      "cell_type": "markdown",
      "source": [
        "Fine-tuning and observations\n",
        "\n",
        "* Increase in chunk overlap from 16 to 32\n",
        "  * This increases the continuity of the chunks which helps preserve context at boundaries of chunks.\n",
        "    * Having a larger proportion of overlap for smaller chunk sizes is beneficial since the relevant context may be broken up over many small chunks.\n",
        "  * The response provides a clearer protocol for managing sepsis in a CCU compared to the original RAG response with a lower chunk overlap.\n",
        "* Increase in temperature from 0 to 0.1\n",
        "  * This increases the 'randomness' of the response and leads to more 'creativity'. In the context of the medical field, this would not be recommended as we want the responses to be as deterministic as possible."
      ],
      "metadata": {
        "id": "v9OCmWPvx-rg"
      }
    },
    {
      "cell_type": "markdown",
      "source": [
        "#### Combination 2"
      ],
      "metadata": {
        "id": "qmQ1b9dp7Xpt"
      }
    },
    {
      "cell_type": "code",
      "source": [
        "text_splitter_512_16 = RecursiveCharacterTextSplitter.from_tiktoken_encoder(\n",
        "    encoding_name='cl100k_base',\n",
        "    chunk_size=512,\n",
        "    chunk_overlap=16\n",
        ")\n",
        "\n",
        "document_chunks_512_16 = pdf_loader.load_and_split(text_splitter_512_16)\n",
        "\n",
        "report_512_16 = 'Journal_QnA_512_16'\n",
        "vectorstore_512_16 = Chroma.from_documents(\n",
        "    document_chunks_512_16,\n",
        "    embedding_model,\n",
        "    collection_name=report_512_16\n",
        ")\n",
        "\n",
        "retriever_512_16 = vectorstore_512_16.as_retriever(\n",
        "    search_type='similarity',\n",
        "    search_kwargs={'k': 6}\n",
        ")"
      ],
      "metadata": {
        "colab": {
          "base_uri": "https://localhost:8080/"
        },
        "outputId": "ef9379b0-05f4-40f2-816c-ab082a911e90",
        "id": "dmqgm22F7meQ"
      },
      "execution_count": 100,
      "outputs": [
        {
          "output_type": "stream",
          "name": "stderr",
          "text": [
            "ERROR:chromadb.telemetry.product.posthog:Failed to send telemetry event ClientStartEvent: capture() takes 1 positional argument but 3 were given\n",
            "ERROR:chromadb.telemetry.product.posthog:Failed to send telemetry event ClientCreateCollectionEvent: capture() takes 1 positional argument but 3 were given\n"
          ]
        }
      ]
    },
    {
      "cell_type": "code",
      "source": [
        "def generate_RAG_response_512_16(user_input, llm, k=3, max_tokens=256, temperature=0, top_p=0.95, top_k=50):\n",
        "    relevant_document_chunks = retriever_512_16.get_relevant_documents(user_input, k=k)\n",
        "    context_list = [d.page_content.replace(\"\\t\", \" \") for d in relevant_document_chunks]\n",
        "    context_for_query = \". \".join(context_list)\n",
        "\n",
        "    prompt = f\"\"\"[INST] <<SYS>>\n",
        "{qna_system_message}\n",
        "<</SYS>>\n",
        "\n",
        "{qna_user_message_template.format(context=context_for_query, question=user_input)} [/INST]\"\"\"\n",
        "\n",
        "    try:\n",
        "        response = llm(\n",
        "            prompt=prompt,\n",
        "            max_tokens=max_tokens,\n",
        "            temperature=temperature,\n",
        "            top_p=top_p,\n",
        "            top_k=top_k,\n",
        "            stop=[\"[/INST]\"],\n",
        "            echo=False\n",
        "        )\n",
        "        prediction = response[\"choices\"][0][\"text\"].strip()\n",
        "    except Exception as e:\n",
        "        prediction = f\"Sorry, I encountered the following error:\\n{e}\"\n",
        "\n",
        "    return prediction\n"
      ],
      "metadata": {
        "id": "nR4x-JvQ7meR"
      },
      "execution_count": 101,
      "outputs": []
    },
    {
      "cell_type": "code",
      "source": [
        "generate_RAG_response_512_16(query_dict[2],lcpp_llm,top_p=0.9)"
      ],
      "metadata": {
        "colab": {
          "base_uri": "https://localhost:8080/",
          "height": 212
        },
        "id": "1nFPn0op8Jp1",
        "outputId": "7db56ed9-4e97-4227-ccb0-d45abe392b3f"
      },
      "execution_count": 102,
      "outputs": [
        {
          "output_type": "stream",
          "name": "stderr",
          "text": [
            "ERROR:chromadb.telemetry.product.posthog:Failed to send telemetry event CollectionQueryEvent: capture() takes 1 positional argument but 3 were given\n",
            "Llama.generate: prefix-match hit\n"
          ]
        },
        {
          "output_type": "execute_result",
          "data": {
            "text/plain": [
              "\"Based on the provided ###Context, the answer to ###Question is:\\nThe common symptoms of appendicitis include epigastric or periumbilical pain followed by brief nausea, vomiting, and anorexia; after a few hours, the pain shifts to the right lower quadrant. Pain increases with cough and motion. Classic signs are right lower quadrant direct and rebound tenderness located at McBurney's point (junction of the middle and outer thirds of the line joining the umbilicus to the anterior superior spine). Additional signs are pain felt in the right lower quadrant with palpation of the left lower quadrant, an increase in pain from passive extension of the right hip joint that stretches the iliopsoas muscle (psoas sign), or pain caused by passive internal rotation of the flexed thigh (obturator sign). Low-grade fever (rectal temperature 37.7 to 38.3° C [100 to 101° F]) is common.\\nUnfortunately, these classic findings appear in < 50% of patients. Many variations of\""
            ],
            "application/vnd.google.colaboratory.intrinsic+json": {
              "type": "string"
            }
          },
          "metadata": {},
          "execution_count": 102
        }
      ]
    },
    {
      "cell_type": "markdown",
      "source": [
        "Fine-tuning and observations:\n",
        "\n",
        "* Increase in chunk size from 256 to 512\n",
        "  * This can give more context per chunk and can prevent important information from being split apart\n",
        "  * However potential drawbacks can include less precise retrieval and may return irrelevant information\n",
        "    * This is seen in the response as it returns unnecessary information about the symptoms and therefore was unable to answer second part of the query (treatments for appendicitis) within the token limit.\n",
        "* * Top_p is reduced from .95 to 0.9.\n",
        "      * This decreases the cumulative probability cutoff for token selection. This leads to a less diverse response."
      ],
      "metadata": {
        "id": "Lqo1zHvZ1mZ0"
      }
    },
    {
      "cell_type": "markdown",
      "source": [
        "#### Combination 3"
      ],
      "metadata": {
        "id": "tnW_OYoH8F3V"
      }
    },
    {
      "cell_type": "code",
      "source": [
        "text_splitter_512_32 = RecursiveCharacterTextSplitter.from_tiktoken_encoder(\n",
        "    encoding_name='cl100k_base',\n",
        "    chunk_size=512,\n",
        "    chunk_overlap=32\n",
        ")\n",
        "\n",
        "document_chunks_512_32 = pdf_loader.load_and_split(text_splitter_512_32)\n",
        "\n",
        "report_512_32 = 'Journal_QnA_512_32'\n",
        "vectorstore_512_32 = Chroma.from_documents(\n",
        "    document_chunks_512_32,\n",
        "    embedding_model,\n",
        "    collection_name=report_512_32\n",
        ")\n",
        "\n",
        "retriever_512_32 = vectorstore_512_32.as_retriever(\n",
        "    search_type='similarity',\n",
        "    search_kwargs={'k': 6}\n",
        ")"
      ],
      "metadata": {
        "colab": {
          "base_uri": "https://localhost:8080/"
        },
        "outputId": "e8df8544-70c2-4872-b083-c397636ad269",
        "id": "9ZdgfpFd82fZ"
      },
      "execution_count": 103,
      "outputs": [
        {
          "output_type": "stream",
          "name": "stderr",
          "text": [
            "ERROR:chromadb.telemetry.product.posthog:Failed to send telemetry event ClientStartEvent: capture() takes 1 positional argument but 3 were given\n",
            "ERROR:chromadb.telemetry.product.posthog:Failed to send telemetry event ClientCreateCollectionEvent: capture() takes 1 positional argument but 3 were given\n"
          ]
        }
      ]
    },
    {
      "cell_type": "code",
      "source": [
        "def generate_RAG_response_512_32(user_input, llm, k=3, max_tokens=256, temperature=0, top_p=0.95, top_k=50):\n",
        "    relevant_document_chunks = retriever_512_32.get_relevant_documents(user_input, k=k)\n",
        "    context_list = [d.page_content.replace(\"\\t\", \" \") for d in relevant_document_chunks]\n",
        "    context_for_query = \". \".join(context_list)\n",
        "\n",
        "    prompt = f\"\"\"[INST] <<SYS>>\n",
        "{qna_system_message}\n",
        "<</SYS>>\n",
        "\n",
        "{qna_user_message_template.format(context=context_for_query, question=user_input)} [/INST]\"\"\"\n",
        "\n",
        "    try:\n",
        "        response = llm(\n",
        "            prompt=prompt,\n",
        "            max_tokens=max_tokens,\n",
        "            temperature=temperature,\n",
        "            top_p=top_p,\n",
        "            top_k=top_k,\n",
        "            stop=[\"[/INST]\"],\n",
        "            echo=False\n",
        "        )\n",
        "        prediction = response[\"choices\"][0][\"text\"].strip()\n",
        "    except Exception as e:\n",
        "        prediction = f\"Sorry, I encountered the following error:\\n{e}\"\n",
        "\n",
        "    return prediction\n"
      ],
      "metadata": {
        "id": "kgmcDrT-82fZ"
      },
      "execution_count": 104,
      "outputs": []
    },
    {
      "cell_type": "code",
      "source": [
        "generate_RAG_response_512_32(query_dict[3],lcpp_llm,top_k=20)"
      ],
      "metadata": {
        "colab": {
          "base_uri": "https://localhost:8080/",
          "height": 212
        },
        "outputId": "bf6cae9e-f5e7-4851-f3d7-495202f80ced",
        "id": "Ao55uCTD82fa"
      },
      "execution_count": 105,
      "outputs": [
        {
          "output_type": "stream",
          "name": "stderr",
          "text": [
            "ERROR:chromadb.telemetry.product.posthog:Failed to send telemetry event CollectionQueryEvent: capture() takes 1 positional argument but 3 were given\n",
            "Llama.generate: prefix-match hit\n"
          ]
        },
        {
          "output_type": "execute_result",
          "data": {
            "text/plain": [
              "'Based on the provided context, there are several effective treatments or solutions for addressing sudden patchy hair loss, including:\\n1. Minoxidil (2% for women, 2% or 5% for men): Prolongs the anagen growth phase and gradually enlarges miniaturized follicles (vellus hairs) into mature terminal hairs.\\n2. Finasteride: Inhibits the 5α-reductase enzyme, blocking conversion of testosterone to dihydrotestosterone, and is useful for male-pattern hair loss.\\n3. Alopecia areata treatment: Steroid injections, topical corticosteroids, or oral medications such as prednisone may be used to treat patchy hair loss.\\n4. Hair transplantation: This involves moving healthy hair follicles from the back and sides of the head to the bald areas.\\n5. Wigs or hairpieces: Can be used to cover up bald areas until hair grows back.\\nPossible causes behind sudden patchy hair loss include:\\n1. Androgenetic alopecia (male-pattern or female-pattern'"
            ],
            "application/vnd.google.colaboratory.intrinsic+json": {
              "type": "string"
            }
          },
          "metadata": {},
          "execution_count": 105
        }
      ]
    },
    {
      "cell_type": "markdown",
      "source": [
        "Fine-tuning and observations:\n",
        "* Increase in chunk size (256 to 512) and chunk overlap (16 to 32)\n",
        "  * Increasing chunk size can increase context per chunk and increasing chunk overlap can help preserve continuity of context across chunks\n",
        "    * This can be observed in this response as it provides a high amount of additional detail regarding the mechanisms of the treaments for localized bald spots. However some of this information may not be necessary and can lead to information overload.\n",
        "    * Once again, these changes prevented the response from answering the whole query within the token limit.\n",
        "  * Top_k is reduced from 50 to 20\n",
        "    * This lowers the maximum number of most-likely token to consider at each step which will make the response more focused"
      ],
      "metadata": {
        "id": "p77O7YAFaIgt"
      }
    },
    {
      "cell_type": "markdown",
      "source": [
        "#### Combination 4"
      ],
      "metadata": {
        "id": "aV7JrA309YEd"
      }
    },
    {
      "cell_type": "code",
      "source": [
        "text_splitter_512_64 = RecursiveCharacterTextSplitter.from_tiktoken_encoder(\n",
        "    encoding_name='cl100k_base',\n",
        "    chunk_size=512,\n",
        "    chunk_overlap=64\n",
        ")\n",
        "\n",
        "document_chunks_512_64 = pdf_loader.load_and_split(text_splitter_512_64)\n",
        "\n",
        "report_512_64 = 'Journal_QnA_512_64'\n",
        "vectorstore_512_64 = Chroma.from_documents(\n",
        "    document_chunks_512_64,\n",
        "    embedding_model,\n",
        "    collection_name=report_512_64\n",
        ")\n",
        "\n",
        "retriever_512_64 = vectorstore_512_64.as_retriever(\n",
        "    search_type='similarity',\n",
        "    search_kwargs={'k': 6}\n",
        ")"
      ],
      "metadata": {
        "colab": {
          "base_uri": "https://localhost:8080/"
        },
        "outputId": "0555dc5c-9dc7-4b00-9ef0-a76da9b25d82",
        "id": "v-wDF6If9933"
      },
      "execution_count": 106,
      "outputs": [
        {
          "output_type": "stream",
          "name": "stderr",
          "text": [
            "ERROR:chromadb.telemetry.product.posthog:Failed to send telemetry event ClientStartEvent: capture() takes 1 positional argument but 3 were given\n",
            "ERROR:chromadb.telemetry.product.posthog:Failed to send telemetry event ClientCreateCollectionEvent: capture() takes 1 positional argument but 3 were given\n"
          ]
        }
      ]
    },
    {
      "cell_type": "code",
      "source": [
        "def generate_RAG_response_512_64(user_input, llm, k=3, max_tokens=256, temperature=0, top_p=0.95, top_k=50):\n",
        "    relevant_document_chunks = retriever_512_64.get_relevant_documents(user_input, k=k)\n",
        "    context_list = [d.page_content.replace(\"\\t\", \" \") for d in relevant_document_chunks]\n",
        "    context_for_query = \". \".join(context_list)\n",
        "\n",
        "    prompt = f\"\"\"[INST] <<SYS>>\n",
        "{qna_system_message}\n",
        "<</SYS>>\n",
        "\n",
        "{qna_user_message_template.format(context=context_for_query, question=user_input)} [/INST]\"\"\"\n",
        "\n",
        "    try:\n",
        "        response = llm(\n",
        "            prompt=prompt,\n",
        "            max_tokens=max_tokens,\n",
        "            temperature=temperature,\n",
        "            top_p=top_p,\n",
        "            top_k=top_k,\n",
        "            stop=[\"[/INST]\"],\n",
        "            echo=False\n",
        "        )\n",
        "        prediction = response[\"choices\"][0][\"text\"].strip()\n",
        "    except Exception as e:\n",
        "        prediction = f\"Sorry, I encountered the following error:\\n{e}\"\n",
        "\n",
        "    return prediction\n"
      ],
      "metadata": {
        "id": "5fsGprKx9934"
      },
      "execution_count": 107,
      "outputs": []
    },
    {
      "cell_type": "code",
      "source": [
        "generate_RAG_response_512_64(query_dict[4],lcpp_llm,max_tokens=512,k=2)"
      ],
      "metadata": {
        "colab": {
          "base_uri": "https://localhost:8080/",
          "height": 160
        },
        "outputId": "623a4e41-fbe7-4540-eda8-51be940a577b",
        "id": "NnuOJXpx9934"
      },
      "execution_count": 108,
      "outputs": [
        {
          "output_type": "stream",
          "name": "stderr",
          "text": [
            "ERROR:chromadb.telemetry.product.posthog:Failed to send telemetry event CollectionQueryEvent: capture() takes 1 positional argument but 3 were given\n",
            "Llama.generate: prefix-match hit\n"
          ]
        },
        {
          "output_type": "execute_result",
          "data": {
            "text/plain": [
              "\"Based on the provided ###Context, the answer to ###Question is:\\nRehabilitation therapy is recommended for a person who has sustained a physical injury to brain tissue, resulting in temporary or permanent impairment of brain function. This type of therapy should be provided through a team approach that combines physical, occupational, and speech therapy, skill-building activities, and counseling to meet the patient's social and emotional needs. Early planning and implementation of rehabilitation services are important to maximize functional recovery.\""
            ],
            "application/vnd.google.colaboratory.intrinsic+json": {
              "type": "string"
            }
          },
          "metadata": {},
          "execution_count": 108
        }
      ]
    },
    {
      "cell_type": "markdown",
      "source": [
        "Fine-tuning and observations\n",
        "* Increase in chunk size (256 to 512) and chunk overlap (16 to 64)\n",
        "  * Increasing chunk size can increase context per chunk and increasing chunk overlap can help preserve continuity of context across chunks\n",
        "    * This can be seen in this response as it provides slightly more detail about treating a patient who sustained a physical brin injury to brain tissue\n",
        "* Incraese in max tokens from 256 to 512 and a decrease in k from 3 to 2\n",
        "  * The increase in max tokens allows the model to respond fully without truncation.\n",
        "  * The decrease in k (the number of the most similar chunks retrived that is used as context) may lead to less contextual information, but it also prevents contextual overload (especially if there is a small conext window and large chunk sizes)"
      ],
      "metadata": {
        "id": "Bz8QsVbqqMqS"
      }
    },
    {
      "cell_type": "markdown",
      "source": [
        "#### Combination 5"
      ],
      "metadata": {
        "id": "XQMv-2Cr-Aj-"
      }
    },
    {
      "cell_type": "code",
      "source": [
        "text_splitter_256_64 = RecursiveCharacterTextSplitter.from_tiktoken_encoder(\n",
        "    encoding_name='cl100k_base',\n",
        "    chunk_size=256,\n",
        "    chunk_overlap=64\n",
        ")\n",
        "\n",
        "document_chunks_256_64 = pdf_loader.load_and_split(text_splitter_256_64)\n",
        "\n",
        "report_256_64 = 'Journal_QnA_256_64'\n",
        "vectorstore_256_64 = Chroma.from_documents(\n",
        "    document_chunks_256_64,\n",
        "    embedding_model,\n",
        "    collection_name=report_256_64\n",
        ")\n",
        "\n",
        "retriever_256_64 = vectorstore_256_64.as_retriever(\n",
        "    search_type='similarity',\n",
        "    search_kwargs={'k': 6}\n",
        ")"
      ],
      "metadata": {
        "colab": {
          "base_uri": "https://localhost:8080/"
        },
        "outputId": "9223b72a-89ca-400f-de6a-f1978b255e5d",
        "id": "WNVvcLTT-Vov"
      },
      "execution_count": 109,
      "outputs": [
        {
          "output_type": "stream",
          "name": "stderr",
          "text": [
            "ERROR:chromadb.telemetry.product.posthog:Failed to send telemetry event ClientStartEvent: capture() takes 1 positional argument but 3 were given\n",
            "ERROR:chromadb.telemetry.product.posthog:Failed to send telemetry event ClientCreateCollectionEvent: capture() takes 1 positional argument but 3 were given\n"
          ]
        }
      ]
    },
    {
      "cell_type": "code",
      "source": [
        "def generate_RAG_response_256_64(user_input, llm, k=3, max_tokens=256, temperature=0, top_p=0.95, top_k=50):\n",
        "    relevant_document_chunks = retriever_256_64.get_relevant_documents(user_input, k=k)\n",
        "    context_list = [d.page_content.replace(\"\\t\", \" \") for d in relevant_document_chunks]\n",
        "    context_for_query = \". \".join(context_list)\n",
        "\n",
        "    prompt = f\"\"\"[INST] <<SYS>>\n",
        "{qna_system_message}\n",
        "<</SYS>>\n",
        "\n",
        "{qna_user_message_template.format(context=context_for_query, question=user_input)} [/INST]\"\"\"\n",
        "\n",
        "    try:\n",
        "        response = llm(\n",
        "            prompt=prompt,\n",
        "            max_tokens=max_tokens,\n",
        "            temperature=temperature,\n",
        "            top_p=top_p,\n",
        "            top_k=top_k,\n",
        "            stop=[\"[/INST]\"],\n",
        "            echo=False\n",
        "        )\n",
        "        prediction = response[\"choices\"][0][\"text\"].strip()\n",
        "    except Exception as e:\n",
        "        prediction = f\"Sorry, I encountered the following error:\\n{e}\"\n",
        "\n",
        "    return prediction\n"
      ],
      "metadata": {
        "id": "ntxHcQwH-Vov"
      },
      "execution_count": 110,
      "outputs": []
    },
    {
      "cell_type": "code",
      "source": [
        "generate_RAG_response_256_64(query_dict[5],lcpp_llm,k=6,top_p=0.8,top_k=20)"
      ],
      "metadata": {
        "colab": {
          "base_uri": "https://localhost:8080/",
          "height": 229
        },
        "outputId": "e73b1298-d500-483e-ccd1-1950f15121e2",
        "id": "2OMzvX8--Vov"
      },
      "execution_count": 111,
      "outputs": [
        {
          "output_type": "stream",
          "name": "stderr",
          "text": [
            "ERROR:chromadb.telemetry.product.posthog:Failed to send telemetry event CollectionQueryEvent: capture() takes 1 positional argument but 3 were given\n",
            "Llama.generate: prefix-match hit\n"
          ]
        },
        {
          "output_type": "execute_result",
          "data": {
            "text/plain": [
              "\"Based on the provided context, the following are the necessary precautions and treatment steps for a person who has fractured their leg during a hiking trip:\\nPrecautions:\\n1. Immobilization: The affected leg should be immobilized using a splint or cast to prevent further injury and promote healing.\\n2. Pain management: Pain medication should be administered as needed to manage discomfort and reduce the risk of infection.\\n3. Wound care: Any open wounds on the affected leg should be cleaned and dressed regularly to prevent infection.\\n4. Elevation: The affected leg should be elevated above the level of the heart to reduce swelling and promote blood flow.\\n5. Rest: The patient should rest as much as possible to avoid putting unnecessary strain on the injured leg.\\n6. Monitoring: The patient's vital signs, particularly their pulse and breathing rate, should be monitored regularly to ensure they are stable and not experiencing any complications.\\n7. Transportation: If the injury is severe or the patient is unable to walk, transportation to a medical facility may be necessary for further treatment.\""
            ],
            "application/vnd.google.colaboratory.intrinsic+json": {
              "type": "string"
            }
          },
          "metadata": {},
          "execution_count": 111
        }
      ]
    },
    {
      "cell_type": "markdown",
      "source": [
        "Fine-tuning and observations\n",
        "* Increase in chunk overlap from 16 to 64\n",
        "  * This helps preserve continuity of context across chunks\n",
        "    * However a relatively large chunk overlap to the chunk size could lead to the retriever returning redundant chunks due to duplication within the chunks\n",
        "      * However this duplication is not seen in the response.\n",
        "    * The response is comprehensive with detailed treatment steps.\n",
        "* Increase in k from 3 to 6\n",
        "  * This increases the number of most similar chunks retrieved to the query\n",
        "  * This can increase context diversity and improve model response\n",
        "  * However this could lead to context overflow, especially if there the chunk size is large. Since the chunk size is 256 and the size of the context window is 4096, this should not be an issue.\n",
        "* Decrease top_p from 0.95 to 0.8\n",
        "* Decrease in top_k from 50 to 20\n",
        "    * These parameter changes leads to a more concise, focused and deterministic response which is necessary in the medical field.\n",
        "\n",
        "\n",
        "     "
      ],
      "metadata": {
        "id": "SmGGiQZDwqiL"
      }
    },
    {
      "cell_type": "markdown",
      "metadata": {
        "id": "yyQrTipNfuBN"
      },
      "source": [
        "## Output Evaluation"
      ]
    },
    {
      "cell_type": "markdown",
      "metadata": {
        "id": "HbXMSxqa-65E"
      },
      "source": [
        "Let us now use the LLM-as-a-judge method to check the quality of the RAG system on two parameters - retrieval and generation. We illustrate this evaluation based on the answeres generated to the question from the previous section.\n",
        "\n",
        "- We are using the same Mistral model for evaluation, so basically here the llm is rating itself on how well he has performed in the task."
      ]
    },
    {
      "cell_type": "code",
      "source": [
        "groundedness_rater_system_message  = \"\"\"\n",
        "You will be presented a ###Question, ###Context used by the AI system and AI generated ###Answer.\n",
        "\n",
        "Your task is to judge the extent to which the ###Answer is derived from ###Context.\n",
        "\n",
        "Rate it 1 - if The ###Answer is not derived from the ###Context at all\n",
        "Rate it 2 - if The ###Answer is derived from the ###Context only to a limited extent\n",
        "Rate it 3 - if The ###Answer is derived from ###Context to a good extent\n",
        "Rate it 4 - if The ###Answer is derived from ###Context mostly\n",
        "Rate it 5 - if The ###Answer is is derived from ###Context completely\n",
        "\n",
        "Please note: Make sure you give a single overall rating in the range of 1 to 5 along with an overall explanation.\n",
        "\"\"\""
      ],
      "metadata": {
        "id": "IHbfLAxAGdhW"
      },
      "execution_count": 80,
      "outputs": []
    },
    {
      "cell_type": "code",
      "source": [
        "relevance_rater_system_message = \"\"\"\n",
        "You will be presented with a ###Question, the ###Context used by the AI system to generate a response, and the AI-generated ###Answer.\n",
        "\n",
        "Your task is to judge the extent to which the ###Answer is relevant to the ###Question, considering whether it directly addresses the key aspects of the ###Question based on the provided ###Context.\n",
        "\n",
        "Rate the relevance as follows:\n",
        "- Rate 1 – The ###Answer is not relevant to the ###Question at all.\n",
        "- Rate 2 – The ###Answer is only slightly relevant to the **###Question**, missing key aspects.\n",
        "- Rate 3 – The ###Answer is moderately relevant, addressing some parts of the **###Question** but leaving out important details.\n",
        "- Rate 4 – The ###Answer is mostly relevant, covering key aspects but with minor gaps.\n",
        "- Rate 5 – The ###Answer is fully relevant, directly answering all important aspects of the **###Question** with appropriate details from the **###Context**.\n",
        "\n",
        "Note: Provide a single overall rating in the range of 1 to 5, along with a brief explanation of why you assigned that score.\n",
        "\"\"\""
      ],
      "metadata": {
        "id": "159OZZa0Rinv"
      },
      "execution_count": 81,
      "outputs": []
    },
    {
      "cell_type": "code",
      "source": [
        "user_message_template = \"\"\"\n",
        "###Question\n",
        "{question}\n",
        "\n",
        "###Context\n",
        "{context}\n",
        "\n",
        "###Answer\n",
        "{answer}\n",
        "\"\"\""
      ],
      "metadata": {
        "id": "RLqiSn-iRwSl"
      },
      "execution_count": 82,
      "outputs": []
    },
    {
      "cell_type": "code",
      "source": [
        "def generate_ground_relevance_response(user_input,k=3,max_tokens=128,temperature=0,top_p=0.95,top_k=50):\n",
        "    global qna_system_message,qna_user_message_template\n",
        "    # Retrieve relevant document chunks\n",
        "    relevant_document_chunks = retriever.get_relevant_documents(query=user_input,k=3)\n",
        "    context_list = [d.page_content for d in relevant_document_chunks]\n",
        "    context_for_query = \". \".join(context_list)\n",
        "\n",
        "    # Combine user_prompt and system_message to create the prompt\n",
        "    prompt = f\"\"\"[INST]{qna_system_message}\\n\n",
        "                {'user'}: {qna_user_message_template.format(context=context_for_query, question=user_input)}\n",
        "                [/INST]\"\"\"\n",
        "\n",
        "    response = lcpp_llm(\n",
        "            prompt=prompt,\n",
        "            max_tokens=max_tokens,\n",
        "            temperature=temperature,\n",
        "            top_p=top_p,\n",
        "            top_k=top_k,\n",
        "            stop=['INST'],\n",
        "            )\n",
        "\n",
        "    answer =  response[\"choices\"][0][\"text\"]\n",
        "\n",
        "    # Combine user_prompt and system_message to create the prompt\n",
        "    groundedness_prompt = f\"\"\"[INST]{groundedness_rater_system_message}\\n\n",
        "                {'user'}: {user_message_template.format(context=context_for_query, question=user_input, answer=answer)}\n",
        "                [/INST]\"\"\"\n",
        "\n",
        "    # Combine user_prompt and system_message to create the prompt\n",
        "    relevance_prompt = f\"\"\"[INST]{relevance_rater_system_message}\\n\n",
        "                {'user'}: {user_message_template.format(context=context_for_query, question=user_input, answer=answer)}\n",
        "                [/INST]\"\"\"\n",
        "\n",
        "    response_1 = lcpp_llm(\n",
        "            prompt=groundedness_prompt,\n",
        "            max_tokens=max_tokens,\n",
        "            temperature=temperature,\n",
        "            top_p=top_p,\n",
        "            top_k=top_k,\n",
        "            stop=['INST'],\n",
        "            )\n",
        "\n",
        "    response_2 = lcpp_llm(\n",
        "            prompt=relevance_prompt,\n",
        "            max_tokens=max_tokens,\n",
        "            temperature=temperature,\n",
        "            top_p=top_p,\n",
        "            top_k=top_k,\n",
        "            stop=['INST'],\n",
        "            )\n",
        "\n",
        "    return response_1['choices'][0]['text'],response_2['choices'][0]['text']"
      ],
      "metadata": {
        "id": "XIbZybyuRi2p"
      },
      "execution_count": 89,
      "outputs": []
    },
    {
      "cell_type": "markdown",
      "metadata": {
        "id": "f6qxqyJLYA2x"
      },
      "source": [
        "### Query 1: What is the protocol for managing sepsis in a critical care unit?"
      ]
    },
    {
      "cell_type": "code",
      "execution_count": 90,
      "metadata": {
        "id": "ANzurSjuYA2x",
        "colab": {
          "base_uri": "https://localhost:8080/"
        },
        "outputId": "4c855bdc-0af4-485b-d007-65bce737ec1d"
      },
      "outputs": [
        {
          "output_type": "stream",
          "name": "stderr",
          "text": [
            "Llama.generate: prefix-match hit\n",
            "Llama.generate: prefix-match hit\n",
            "Llama.generate: prefix-match hit\n"
          ]
        },
        {
          "output_type": "execute_result",
          "data": {
            "text/plain": [
              "('  Based on the provided context, I would rate the extent to which the answer is derived from the context as follows:\\n* Provision of adequate nutrition: The context mentions that supportive care for ICU patients includes provision of adequate nutrition (see p. 21). Therefore, this answer is derived from the context to a good extent. Rating: 3.\\n* Prevention of infection: The context highlights the importance of preventing infection, stress ulcers and gastritis, and pulmonary embolism in ICU patients (see p. ',\n",
              " '  Based on the provided context and question, I would rate the relevance of the answer as follows:\\nRating: 3 - Moderately relevant\\nThe answer provides some information related to the management of sepsis in a critical care unit, including provision of adequate nutrition, prevention of infection, stress ulcers and gastritis, and pulmonary embolism. However, the answer does not directly address key aspects of the question, such as the specific protocol for managing sepsis in a critical care unit, or the role of clinical criteria in diagnosing sepsis')"
            ]
          },
          "metadata": {},
          "execution_count": 90
        }
      ],
      "source": [
        "generate_ground_relevance_response(query_dict[1])"
      ]
    },
    {
      "cell_type": "markdown",
      "metadata": {
        "id": "7A60Q6x3YA2y"
      },
      "source": [
        "### Query 2: What are the common symptoms for appendicitis, and can it be cured via medicine? If not, what surgical procedure should be followed to treat it?"
      ]
    },
    {
      "cell_type": "code",
      "execution_count": 93,
      "metadata": {
        "id": "LOZQyoLwYA2y",
        "colab": {
          "base_uri": "https://localhost:8080/"
        },
        "outputId": "aaf2d7ff-2322-49a9-8dbe-7acc931ed0a4"
      },
      "outputs": [
        {
          "output_type": "stream",
          "name": "stderr",
          "text": [
            "Llama.generate: prefix-match hit\n",
            "Llama.generate: prefix-match hit\n",
            "Llama.generate: prefix-match hit\n"
          ]
        },
        {
          "output_type": "execute_result",
          "data": {
            "text/plain": [
              "('  Based on the provided context and question, I would rate the extent to which the AI-generated answer is derived from the context as follows:\\n* Relevance to the topic: 5/5 - The answer directly addresses the symptoms and treatment of appendicitis, which is the main focus of the context.\\n* Accuracy: 4/5 - The answer provides a comprehensive list of common symptoms of appendicitis, including epigastric or periumbilical pain, nausea, vomiting, anorexia, and right lower quadrant tenderness. However',\n",
              " '  Based on the provided context and question, I would rate the relevance of the AI-generated answer as follows:\\nRating: 3 - Moderately relevant\\nThe answer provides some information related to the symptoms and signs of appendicitis, which is the main topic of the question. However, it misses some key aspects and details that are important for a fully relevant response. For example, the answer does not mention the specific age groups most commonly affected by appendicitis, nor does it provide information on the diagnostic criteria or treatment options beyond surgical removal. Additionally, the answer could benefit from more')"
            ]
          },
          "metadata": {},
          "execution_count": 93
        }
      ],
      "source": [
        "generate_ground_relevance_response(query_dict[2])"
      ]
    },
    {
      "cell_type": "markdown",
      "metadata": {
        "id": "ZmYnriTdYA2z"
      },
      "source": [
        "### Query 3: What are the effective treatments or solutions for addressing sudden patchy hair loss, commonly seen as localized bald spots on the scalp, and what could be the possible causes behind it?"
      ]
    },
    {
      "cell_type": "code",
      "execution_count": 94,
      "metadata": {
        "id": "Qp898M2iYA2z",
        "colab": {
          "base_uri": "https://localhost:8080/"
        },
        "outputId": "111805ac-fafd-436d-a187-7f8147e9f8d4"
      },
      "outputs": [
        {
          "output_type": "stream",
          "name": "stderr",
          "text": [
            "Llama.generate: prefix-match hit\n",
            "Llama.generate: prefix-match hit\n",
            "Llama.generate: prefix-match hit\n"
          ]
        },
        {
          "output_type": "execute_result",
          "data": {
            "text/plain": [
              "('  Based on the provided context, I would rate the extent to which the answer is derived from the context as follows:\\n* For Alopecia areata, the answer mentions topical corticosteroids, topical immunotherapy (diphencyprone or squaric acid dibutylester), or psoralen plus ultraviolet A (PUVA) as effective treatment options. These treatments are mentioned in the context as possible treatment options for alopecia areata. Rating: 3 (good extent)\\n* For Androgenetic alopecia, the answer mentions a',\n",
              " '  Based on the provided context and answer, I would rate the relevance of the answer as follows:\\nRating: 4 (Mostly Relevant)\\nExplanation: The answer provides relevant information related to the question, addressing key aspects such as the most common causes of hair loss, treatment options for alopecia areata and androgenetic alopecia, and the effectiveness of topical corticosteroids, immunotherapy, and PUVA in treating these conditions. However, there are some minor gaps in the answer, such as a lack of discussion on other')"
            ]
          },
          "metadata": {},
          "execution_count": 94
        }
      ],
      "source": [
        "generate_ground_relevance_response(query_dict[3])"
      ]
    },
    {
      "cell_type": "markdown",
      "metadata": {
        "id": "jz-lGsVxYA2z"
      },
      "source": [
        "### Query 4: What treatments are recommended for a person who has sustained a physical injury to brain tissue, resulting in temporary or permanent impairment of brain function?"
      ]
    },
    {
      "cell_type": "code",
      "execution_count": 95,
      "metadata": {
        "id": "gBRTYnFVYA2z",
        "colab": {
          "base_uri": "https://localhost:8080/"
        },
        "outputId": "77caf6fe-0553-4c2c-e040-e313ee4df452"
      },
      "outputs": [
        {
          "output_type": "stream",
          "name": "stderr",
          "text": [
            "Llama.generate: prefix-match hit\n",
            "Llama.generate: prefix-match hit\n",
            "Llama.generate: prefix-match hit\n"
          ]
        },
        {
          "output_type": "execute_result",
          "data": {
            "text/plain": [
              "('  Based on the provided context and question, I would rate the extent of derivation of the ###Answer from the ###Context as follows:\\nRating: 4 (Mostly Derived)\\nThe ###Answer is mostly derived from the ###Context in several ways:\\n1. Rehabilitation services: The context highlights the importance of early intervention by rehabilitation specialists, which is consistent with the ###Answer that recommends planning rehabilitation services early.\\n2. Cognitive therapy: The context mentions cognitive dysfunction as a common abnormality after brain injury,',\n",
              " '  Based on the provided question and context, I would rate the relevance of the AI-generated answer as follows:\\nRating: 3 (Moderately relevant)\\nThe AI-generated answer provides some relevant information related to the treatment of brain injury, including the importance of early intervention by rehabilitation specialists, supportive care, and cognitive therapy. However, there are some gaps in the answer that prevent it from being fully relevant. For example, the answer does not provide specific details on the types of cognitive therapy that may be used or the duration of treatment. Additionally')"
            ]
          },
          "metadata": {},
          "execution_count": 95
        }
      ],
      "source": [
        "generate_ground_relevance_response(query_dict[4])"
      ]
    },
    {
      "cell_type": "markdown",
      "metadata": {
        "id": "x2WxSxzDYA2z"
      },
      "source": [
        "### Query 5: What are the necessary precautions and treatment steps for a person who has fractured their leg during a hiking trip, and what should be considered for their care and recovery?"
      ]
    },
    {
      "cell_type": "code",
      "execution_count": 96,
      "metadata": {
        "id": "mKCq09_YYA20",
        "colab": {
          "base_uri": "https://localhost:8080/"
        },
        "outputId": "cf60e745-275d-4a6f-865f-77a6f4904f8a"
      },
      "outputs": [
        {
          "output_type": "stream",
          "name": "stderr",
          "text": [
            "Llama.generate: prefix-match hit\n",
            "Llama.generate: prefix-match hit\n",
            "Llama.generate: prefix-match hit\n"
          ]
        },
        {
          "output_type": "execute_result",
          "data": {
            "text/plain": [
              "('  Based on the provided context, I would rate the extent to which the AI-generated answer is derived from the context as follows:\\n* Precautions: The answer provides accurate information about immobilization and pain management, which are essential precautions for fracture care. It also mentions elevation, which is a common practice in fracture management. Rating: 3 (good extent)\\n* Treatment steps: The answer provides a comprehensive list of treatment steps for fracture management, including reduction, immobilization, and surgical repair. It also mentions the use of prophy',\n",
              " '  Based on the provided context, I would rate the relevance of the AI-generated answer as follows:\\nRating: 4 (Mostly Relevant)\\nThe AI-generated answer provides a comprehensive overview of the necessary precautions and treatment steps for a person who has fractured their leg during a hiking trip. It covers key aspects such as immobilization, pain management, elevation, and evaluation for potential complications like hemorrhagic shock or ischemia. However, there are some minor gaps in the answer, such as the lack of specific mention')"
            ]
          },
          "metadata": {},
          "execution_count": 96
        }
      ],
      "source": [
        "generate_ground_relevance_response(query_dict[5])"
      ]
    },
    {
      "cell_type": "markdown",
      "source": [
        "Observations on evaluations\n",
        "* The LLM-as-a-judge appears to successfully evaluate the responses on groundedness and relevance\n",
        "  * It provides ratings for these evaluation metrics based off the provided template.\n",
        "  * It also provides its reasoning for the evaluation metrics\n",
        "* The low max token limit (128) may cause the truncation of the model response, preventing a comprehensive answer which leads to the evaluator giving a relatively low rating in some of the queries."
      ],
      "metadata": {
        "id": "gV6IwASt_jPo"
      }
    },
    {
      "cell_type": "markdown",
      "metadata": {
        "id": "Y7QICRU-njdj"
      },
      "source": [
        "## Actionable Insights and Business Recommendations"
      ]
    },
    {
      "cell_type": "markdown",
      "source": [
        "* A Retrieval-Augmented Generation (RAG) model built on trusted medical manuals and research can streamline access to knowledge, standardize care practices, and support time-sensitive decision-making.\n",
        "  * It can address challenges related to information overload when diagnosing and treating patients.\n",
        "  * It allows for rapid, reliable access to authoritative medical knowledge to improve accuracy, efficiency, and patient outcomes.\n",
        "  * It has more impactful business applications than a standard LLM as the RAG based model due to the context provided by relevant medical information, whereas a standard LLM provides more genralized responses that may not be relevant or accurate.\n",
        "* Refine prompt design and temperature settings to control response length and creativity.\n",
        "  * In this case, less creative and more deterministic responses (low temperature) are essential in the medical field.\n",
        "* Continuously adjust RAG parameters based on specific use cases for optimal performance.\n",
        "  * Modify parameters such chunk size, chunk overlap, max tokens and the number of chunks retrieved to be used as context (k).\n",
        "* Prioritize groundedness and relevance in evaluations to ensure reliable and contextually accurate outputs."
      ],
      "metadata": {
        "id": "aaaRBluiGuGk"
      }
    },
    {
      "cell_type": "markdown",
      "metadata": {
        "id": "ybRlzaIhWaM9"
      },
      "source": [
        "<font size=6 color='blue'>Power Ahead</font>\n",
        "___"
      ]
    }
  ],
  "metadata": {
    "accelerator": "GPU",
    "colab": {
      "collapsed_sections": [
        "CkRbhMJH6Bz3",
        "CARPKFwm6Bz4"
      ],
      "gpuType": "T4",
      "provenance": [],
      "toc_visible": true
    },
    "kernel_info": {
      "name": "python310-sdkv2"
    },
    "kernelspec": {
      "display_name": "Python 3",
      "name": "python3"
    },
    "language_info": {
      "name": "python"
    },
    "microsoft": {
      "host": {
        "AzureML": {
          "notebookHasBeenCompleted": true
        }
      },
      "ms_spell_check": {
        "ms_spell_check_language": "en"
      }
    },
    "nteract": {
      "version": "nteract-front-end@1.0.0"
    }
  },
  "nbformat": 4,
  "nbformat_minor": 0
}